{
  "nbformat": 4,
  "nbformat_minor": 0,
  "metadata": {
    "colab": {
      "name": "juicer_topic_modelling.ipynb",
      "provenance": [],
      "collapsed_sections": []
    },
    "kernelspec": {
      "name": "python3",
      "display_name": "Python 3"
    }
  },
  "cells": [
    {
      "cell_type": "code",
      "metadata": {
        "id": "VXUVYbKrBQge"
      },
      "source": [
        "import pandas as pd\n",
        "pd.set_option(\"display.max_colwidth\", 200)\n",
        "import numpy as np\n",
        "import re\n",
        "import spacy\n",
        "import json\n",
        "import gensim\n",
        "from gensim import corpora\n",
        "from sklearn.feature_extraction import text\n",
        "from sklearn.feature_extraction.text import CountVectorizer\n",
        "\n",
        "import pyLDAvis\n",
        "import pyLDAvis.gensim\n",
        "import matplotlib.pyplot as plt\n",
        "import seaborn as sns\n",
        "%matplotlib inline"
      ],
      "execution_count": null,
      "outputs": []
    },
    {
      "cell_type": "code",
      "metadata": {
        "id": "vBvp2cnkBpp4",
        "outputId": "f3ba0320-55a9-42ec-d5d0-7bb8441b5883",
        "colab": {
          "base_uri": "https://localhost:8080/",
          "height": 347
        }
      },
      "source": [
        "with open('Philips-juicer.json') as f:\n",
        "  data = json.load(f)\n",
        "reviews = data[0]['reviews']\n",
        "df = pd.DataFrame(reviews)\n",
        "df.head()"
      ],
      "execution_count": null,
      "outputs": [
        {
          "output_type": "execute_result",
          "data": {
            "text/html": [
              "<div>\n",
              "<style scoped>\n",
              "    .dataframe tbody tr th:only-of-type {\n",
              "        vertical-align: middle;\n",
              "    }\n",
              "\n",
              "    .dataframe tbody tr th {\n",
              "        vertical-align: top;\n",
              "    }\n",
              "\n",
              "    .dataframe thead th {\n",
              "        text-align: right;\n",
              "    }\n",
              "</style>\n",
              "<table border=\"1\" class=\"dataframe\">\n",
              "  <thead>\n",
              "    <tr style=\"text-align: right;\">\n",
              "      <th></th>\n",
              "      <th>Username</th>\n",
              "      <th>ReviewTitle</th>\n",
              "      <th>Rating</th>\n",
              "      <th>Verification</th>\n",
              "      <th>Date</th>\n",
              "      <th>Country</th>\n",
              "      <th>Review</th>\n",
              "      <th>Helpfull-Vote</th>\n",
              "      <th>no_of_Comments</th>\n",
              "      <th>imgs</th>\n",
              "      <th>video</th>\n",
              "    </tr>\n",
              "  </thead>\n",
              "  <tbody>\n",
              "    <tr>\n",
              "      <th>0</th>\n",
              "      <td>AJ</td>\n",
              "      <td>Phlipls cheap qualityplastic and poor juicer</td>\n",
              "      <td>1</td>\n",
              "      <td>Verified Purchase</td>\n",
              "      <td>26 October 2018</td>\n",
              "      <td>India</td>\n",
              "      <td>The juicer is of very poor quality plastic and material. See pics attached of new one and a 1 year old one.Philips in ruining their name with such quality.</td>\n",
              "      <td>127</td>\n",
              "      <td>1</td>\n",
              "      <td>[https://images-na.ssl-images-amazon.com/images/I/81TUeehxxGL._SY88.jpg, https://images-na.ssl-images-amazon.com/images/I/81vqJwKI9oL._SY88.jpg]</td>\n",
              "      <td>No Video</td>\n",
              "    </tr>\n",
              "    <tr>\n",
              "      <th>1</th>\n",
              "      <td>STRAIGHT TALK</td>\n",
              "      <td>Leaves too much juice in the discarded pulp</td>\n",
              "      <td>1</td>\n",
              "      <td>Verified Purchase</td>\n",
              "      <td>21 September 2018</td>\n",
              "      <td>India</td>\n",
              "      <td>It leaves too much juice in the discarded pulp and therefore a complete failure for my purpose.I returned the juicer after using it once.It is not the quality I expected.It would be misleading to ...</td>\n",
              "      <td>75</td>\n",
              "      <td>2</td>\n",
              "      <td>No Images</td>\n",
              "      <td>No Video</td>\n",
              "    </tr>\n",
              "    <tr>\n",
              "      <th>2</th>\n",
              "      <td>Indravadan Damor</td>\n",
              "      <td>Nice juicer</td>\n",
              "      <td>5</td>\n",
              "      <td>Verified Purchase</td>\n",
              "      <td>3 April 2018</td>\n",
              "      <td>India</td>\n",
              "      <td>I am writing a review here after using it almost 2 year. I really like this juicer to use it in my routine life. By using this juicer I make juice of carrot,  orange, pineapole, bottle guard and m...</td>\n",
              "      <td>65</td>\n",
              "      <td>1</td>\n",
              "      <td>No Images</td>\n",
              "      <td>No Video</td>\n",
              "    </tr>\n",
              "    <tr>\n",
              "      <th>3</th>\n",
              "      <td>Abhinav P.</td>\n",
              "      <td>Powerful and Durable Juicer</td>\n",
              "      <td>4</td>\n",
              "      <td>Verified Purchase</td>\n",
              "      <td>23 December 2018</td>\n",
              "      <td>India</td>\n",
              "      <td>Writing after 1 month of use, Pros and cons :- Carrot and beetroot juice pic is attached.Pro's :-Juicer is super powerful.Build quality is good.Easy to use and cleanNo juice left in Vegetable resi...</td>\n",
              "      <td>33</td>\n",
              "      <td>0</td>\n",
              "      <td>[https://images-na.ssl-images-amazon.com/images/I/71gLe2s5YfL._SY88.jpg]</td>\n",
              "      <td>No Video</td>\n",
              "    </tr>\n",
              "    <tr>\n",
              "      <th>4</th>\n",
              "      <td>Sandeep K.</td>\n",
              "      <td>Perfect juicer ...</td>\n",
              "      <td>5</td>\n",
              "      <td>Verified Purchase</td>\n",
              "      <td>6 April 2018</td>\n",
              "      <td>India</td>\n",
              "      <td>This is your juicing solution ...it juices everything even leafy vegetables ...u can put whole fruits and the pulp is dry with absolutely no juice left ...I am loving the product ...it makes good ...</td>\n",
              "      <td>24</td>\n",
              "      <td>0</td>\n",
              "      <td>No Images</td>\n",
              "      <td>No Video</td>\n",
              "    </tr>\n",
              "  </tbody>\n",
              "</table>\n",
              "</div>"
            ],
            "text/plain": [
              "           Username  ...     video\n",
              "0                AJ  ...  No Video\n",
              "1     STRAIGHT TALK  ...  No Video\n",
              "2  Indravadan Damor  ...  No Video\n",
              "3        Abhinav P.  ...  No Video\n",
              "4        Sandeep K.  ...  No Video\n",
              "\n",
              "[5 rows x 11 columns]"
            ]
          },
          "metadata": {
            "tags": []
          },
          "execution_count": 4
        }
      ]
    },
    {
      "cell_type": "code",
      "metadata": {
        "id": "HJJTEJVWBvlp",
        "outputId": "a14a8750-1e64-4c16-d612-8a90beb74794",
        "colab": {
          "base_uri": "https://localhost:8080/"
        }
      },
      "source": [
        "df.shape"
      ],
      "execution_count": null,
      "outputs": [
        {
          "output_type": "execute_result",
          "data": {
            "text/plain": [
              "(1627, 11)"
            ]
          },
          "metadata": {
            "tags": []
          },
          "execution_count": 5
        }
      ]
    },
    {
      "cell_type": "markdown",
      "metadata": {
        "id": "LUqsnepqB5_y"
      },
      "source": [
        "# Complete_Data"
      ]
    },
    {
      "cell_type": "code",
      "metadata": {
        "id": "ChkdXO2TByt1",
        "outputId": "f1b4db42-0916-4891-c5f1-15d75d8df0c3",
        "colab": {
          "base_uri": "https://localhost:8080/",
          "height": 197
        }
      },
      "source": [
        "reviews_col = df['ReviewTitle'] + \" \" + df['Review']\n",
        "reviews = pd.DataFrame(reviews_col,df.index,['reviews'])\n",
        "reviews.head()"
      ],
      "execution_count": null,
      "outputs": [
        {
          "output_type": "execute_result",
          "data": {
            "text/html": [
              "<div>\n",
              "<style scoped>\n",
              "    .dataframe tbody tr th:only-of-type {\n",
              "        vertical-align: middle;\n",
              "    }\n",
              "\n",
              "    .dataframe tbody tr th {\n",
              "        vertical-align: top;\n",
              "    }\n",
              "\n",
              "    .dataframe thead th {\n",
              "        text-align: right;\n",
              "    }\n",
              "</style>\n",
              "<table border=\"1\" class=\"dataframe\">\n",
              "  <thead>\n",
              "    <tr style=\"text-align: right;\">\n",
              "      <th></th>\n",
              "      <th>reviews</th>\n",
              "    </tr>\n",
              "  </thead>\n",
              "  <tbody>\n",
              "    <tr>\n",
              "      <th>0</th>\n",
              "      <td>Phlipls cheap qualityplastic and poor juicer The juicer is of very poor quality plastic and material. See pics attached of new one and a 1 year old one.Philips in ruining their name with such qual...</td>\n",
              "    </tr>\n",
              "    <tr>\n",
              "      <th>1</th>\n",
              "      <td>Leaves too much juice in the discarded pulp It leaves too much juice in the discarded pulp and therefore a complete failure for my purpose.I returned the juicer after using it once.It is not the q...</td>\n",
              "    </tr>\n",
              "    <tr>\n",
              "      <th>2</th>\n",
              "      <td>Nice juicer I am writing a review here after using it almost 2 year. I really like this juicer to use it in my routine life. By using this juicer I make juice of carrot,  orange, pineapole, bottle...</td>\n",
              "    </tr>\n",
              "    <tr>\n",
              "      <th>3</th>\n",
              "      <td>Powerful and Durable Juicer Writing after 1 month of use, Pros and cons :- Carrot and beetroot juice pic is attached.Pro's :-Juicer is super powerful.Build quality is good.Easy to use and cleanNo ...</td>\n",
              "    </tr>\n",
              "    <tr>\n",
              "      <th>4</th>\n",
              "      <td>Perfect juicer ... This is your juicing solution ...it juices everything even leafy vegetables ...u can put whole fruits and the pulp is dry with absolutely no juice left ...I am loving the produc...</td>\n",
              "    </tr>\n",
              "  </tbody>\n",
              "</table>\n",
              "</div>"
            ],
            "text/plain": [
              "                                                                                                                                                                                                   reviews\n",
              "0  Phlipls cheap qualityplastic and poor juicer The juicer is of very poor quality plastic and material. See pics attached of new one and a 1 year old one.Philips in ruining their name with such qual...\n",
              "1  Leaves too much juice in the discarded pulp It leaves too much juice in the discarded pulp and therefore a complete failure for my purpose.I returned the juicer after using it once.It is not the q...\n",
              "2  Nice juicer I am writing a review here after using it almost 2 year. I really like this juicer to use it in my routine life. By using this juicer I make juice of carrot,  orange, pineapole, bottle...\n",
              "3  Powerful and Durable Juicer Writing after 1 month of use, Pros and cons :- Carrot and beetroot juice pic is attached.Pro's :-Juicer is super powerful.Build quality is good.Easy to use and cleanNo ...\n",
              "4  Perfect juicer ... This is your juicing solution ...it juices everything even leafy vegetables ...u can put whole fruits and the pulp is dry with absolutely no juice left ...I am loving the produc..."
            ]
          },
          "metadata": {
            "tags": []
          },
          "execution_count": 118
        }
      ]
    },
    {
      "cell_type": "code",
      "metadata": {
        "id": "IyJvDZTEFw2w",
        "outputId": "9107e33d-ee53-4ba5-b588-c09bbe03b5cf",
        "colab": {
          "base_uri": "https://localhost:8080/"
        }
      },
      "source": [
        "reviews['review_processed'] = reviews['reviews'].map(lambda x: re.sub('[,\\.!?]','',x))\n",
        "reviews['review_processed'] = reviews['review_processed'].map(lambda x:x.lower())"
      ],
      "execution_count": null,
      "outputs": [
        {
          "output_type": "stream",
          "text": [
            "<input>:1: DeprecationWarning: invalid escape sequence \\.\n",
            "<input>:1: DeprecationWarning: invalid escape sequence \\.\n",
            "<input>:1: DeprecationWarning: invalid escape sequence \\.\n",
            "<input>:1: DeprecationWarning: invalid escape sequence \\.\n",
            "<input>:1: DeprecationWarning: invalid escape sequence \\.\n",
            "<input>:1: DeprecationWarning: invalid escape sequence \\.\n",
            "<ipython-input-119-c4b5c66fa377>:1: DeprecationWarning: invalid escape sequence \\.\n",
            "  reviews['review_processed'] = reviews['reviews'].map(lambda x: re.sub('[,\\.!?]','',x))\n"
          ],
          "name": "stderr"
        }
      ]
    },
    {
      "cell_type": "code",
      "metadata": {
        "id": "SrlZaZGKGVOU",
        "outputId": "18656b8e-60df-455e-cab0-e975c1e9c178",
        "colab": {
          "base_uri": "https://localhost:8080/",
          "height": 281
        }
      },
      "source": [
        "reviews.head()"
      ],
      "execution_count": null,
      "outputs": [
        {
          "output_type": "execute_result",
          "data": {
            "text/html": [
              "<div>\n",
              "<style scoped>\n",
              "    .dataframe tbody tr th:only-of-type {\n",
              "        vertical-align: middle;\n",
              "    }\n",
              "\n",
              "    .dataframe tbody tr th {\n",
              "        vertical-align: top;\n",
              "    }\n",
              "\n",
              "    .dataframe thead th {\n",
              "        text-align: right;\n",
              "    }\n",
              "</style>\n",
              "<table border=\"1\" class=\"dataframe\">\n",
              "  <thead>\n",
              "    <tr style=\"text-align: right;\">\n",
              "      <th></th>\n",
              "      <th>reviews</th>\n",
              "      <th>review_processed</th>\n",
              "    </tr>\n",
              "  </thead>\n",
              "  <tbody>\n",
              "    <tr>\n",
              "      <th>0</th>\n",
              "      <td>Phlipls cheap qualityplastic and poor juicer The juicer is of very poor quality plastic and material. See pics attached of new one and a 1 year old one.Philips in ruining their name with such qual...</td>\n",
              "      <td>phlipls cheap qualityplastic and poor juicer the juicer is of very poor quality plastic and material see pics attached of new one and a 1 year old onephilips in ruining their name with such quality</td>\n",
              "    </tr>\n",
              "    <tr>\n",
              "      <th>1</th>\n",
              "      <td>Leaves too much juice in the discarded pulp It leaves too much juice in the discarded pulp and therefore a complete failure for my purpose.I returned the juicer after using it once.It is not the q...</td>\n",
              "      <td>leaves too much juice in the discarded pulp it leaves too much juice in the discarded pulp and therefore a complete failure for my purposei returned the juicer after using it onceit is not the qua...</td>\n",
              "    </tr>\n",
              "    <tr>\n",
              "      <th>2</th>\n",
              "      <td>Nice juicer I am writing a review here after using it almost 2 year. I really like this juicer to use it in my routine life. By using this juicer I make juice of carrot,  orange, pineapole, bottle...</td>\n",
              "      <td>nice juicer i am writing a review here after using it almost 2 year i really like this juicer to use it in my routine life by using this juicer i make juice of carrot  orange pineapole bottle guar...</td>\n",
              "    </tr>\n",
              "    <tr>\n",
              "      <th>3</th>\n",
              "      <td>Powerful and Durable Juicer Writing after 1 month of use, Pros and cons :- Carrot and beetroot juice pic is attached.Pro's :-Juicer is super powerful.Build quality is good.Easy to use and cleanNo ...</td>\n",
              "      <td>powerful and durable juicer writing after 1 month of use pros and cons :- carrot and beetroot juice pic is attachedpro's :-juicer is super powerfulbuild quality is goodeasy to use and cleanno juic...</td>\n",
              "    </tr>\n",
              "    <tr>\n",
              "      <th>4</th>\n",
              "      <td>Perfect juicer ... This is your juicing solution ...it juices everything even leafy vegetables ...u can put whole fruits and the pulp is dry with absolutely no juice left ...I am loving the produc...</td>\n",
              "      <td>perfect juicer  this is your juicing solution it juices everything even leafy vegetables u can put whole fruits and the pulp is dry with absolutely no juice left i am loving the product it makes g...</td>\n",
              "    </tr>\n",
              "  </tbody>\n",
              "</table>\n",
              "</div>"
            ],
            "text/plain": [
              "                                                                                                                                                                                                   reviews                                                                                                                                                                                         review_processed\n",
              "0  Phlipls cheap qualityplastic and poor juicer The juicer is of very poor quality plastic and material. See pics attached of new one and a 1 year old one.Philips in ruining their name with such qual...    phlipls cheap qualityplastic and poor juicer the juicer is of very poor quality plastic and material see pics attached of new one and a 1 year old onephilips in ruining their name with such quality\n",
              "1  Leaves too much juice in the discarded pulp It leaves too much juice in the discarded pulp and therefore a complete failure for my purpose.I returned the juicer after using it once.It is not the q...  leaves too much juice in the discarded pulp it leaves too much juice in the discarded pulp and therefore a complete failure for my purposei returned the juicer after using it onceit is not the qua...\n",
              "2  Nice juicer I am writing a review here after using it almost 2 year. I really like this juicer to use it in my routine life. By using this juicer I make juice of carrot,  orange, pineapole, bottle...  nice juicer i am writing a review here after using it almost 2 year i really like this juicer to use it in my routine life by using this juicer i make juice of carrot  orange pineapole bottle guar...\n",
              "3  Powerful and Durable Juicer Writing after 1 month of use, Pros and cons :- Carrot and beetroot juice pic is attached.Pro's :-Juicer is super powerful.Build quality is good.Easy to use and cleanNo ...  powerful and durable juicer writing after 1 month of use pros and cons :- carrot and beetroot juice pic is attachedpro's :-juicer is super powerfulbuild quality is goodeasy to use and cleanno juic...\n",
              "4  Perfect juicer ... This is your juicing solution ...it juices everything even leafy vegetables ...u can put whole fruits and the pulp is dry with absolutely no juice left ...I am loving the produc...  perfect juicer  this is your juicing solution it juices everything even leafy vegetables u can put whole fruits and the pulp is dry with absolutely no juice left i am loving the product it makes g..."
            ]
          },
          "metadata": {
            "tags": []
          },
          "execution_count": 120
        }
      ]
    },
    {
      "cell_type": "code",
      "metadata": {
        "id": "PxSKfg-SHHOX",
        "outputId": "d802a823-e211-476e-81f6-b74454732ce1",
        "colab": {
          "base_uri": "https://localhost:8080/"
        }
      },
      "source": [
        "def sent_to_words(sentences):\n",
        "    for sentence in sentences:\n",
        "        yield(gensim.utils.simple_preprocess(str(sentence),deacc=True))\n",
        "\n",
        "data = reviews.review_processed.values.tolist()\n",
        "data_words = list(sent_to_words(data))\n",
        "print(data_words[0][:])"
      ],
      "execution_count": null,
      "outputs": [
        {
          "output_type": "stream",
          "text": [
            "['phlipls', 'cheap', 'qualityplastic', 'and', 'poor', 'juicer', 'the', 'juicer', 'is', 'of', 'very', 'poor', 'quality', 'plastic', 'and', 'material', 'see', 'pics', 'attached', 'of', 'new', 'one', 'and', 'year', 'old', 'onephilips', 'in', 'ruining', 'their', 'name', 'with', 'such', 'quality']\n"
          ],
          "name": "stdout"
        }
      ]
    },
    {
      "cell_type": "code",
      "metadata": {
        "id": "0iMbaPIfGXb-",
        "outputId": "0b16643c-beb2-4142-d32f-a7d427cebffa",
        "colab": {
          "base_uri": "https://localhost:8080/"
        }
      },
      "source": [
        "bigram = gensim.models.Phrases(reviews.review_processed, min_count=5, threshold=50)\n",
        "trigram = gensim.models.Phrases(bigram[data_words], threshold=50)\n",
        "bigram_mod = gensim.models.phrases.Phraser(bigram)\n",
        "trigram_mod = gensim.models.phrases.Phraser(trigram)"
      ],
      "execution_count": null,
      "outputs": [
        {
          "output_type": "stream",
          "text": [
            "/usr/local/lib/python3.6/dist-packages/gensim/models/phrases.py:598: UserWarning: For a faster implementation, use the gensim.models.phrases.Phraser class\n",
            "  warnings.warn(\"For a faster implementation, use the gensim.models.phrases.Phraser class\")\n"
          ],
          "name": "stderr"
        }
      ]
    },
    {
      "cell_type": "code",
      "metadata": {
        "id": "vAT1ZPs-GhI9",
        "outputId": "2b4f7366-f9dd-4ef9-cc34-2387d441f0f0",
        "colab": {
          "base_uri": "https://localhost:8080/"
        }
      },
      "source": [
        "import nltk\n",
        "nltk.download('stopwords')\n",
        "from nltk.corpus import stopwords\n",
        "import gensim\n",
        "from gensim.utils import simple_preprocess\n",
        "\n",
        "\n",
        "stop_words = stopwords.words('english')\n",
        "stop_words.extend(['from', 'subject', 're', 'edu', 'use'])"
      ],
      "execution_count": null,
      "outputs": [
        {
          "output_type": "stream",
          "text": [
            "[nltk_data] Downloading package stopwords to /root/nltk_data...\n",
            "[nltk_data]   Package stopwords is already up-to-date!\n"
          ],
          "name": "stdout"
        }
      ]
    },
    {
      "cell_type": "code",
      "metadata": {
        "id": "i8vegGOhGjEj"
      },
      "source": [
        "def remove_stopwords(texts):\n",
        "   return [[word for word in simple_preprocess(str(doc)) if word not in stop_words] for doc in texts]\n",
        "\n",
        "def make_bigrams(texts):\n",
        "    return [bigram_mod[doc] for doc in texts]\n",
        "\n",
        "def make_trigrams(texts):\n",
        "    return [trigram_mod[bigram_mod[doc]] for doc in texts]\n",
        "\n",
        "def lemmatization(texts, allowed_postags=['NOUN', 'ADJ', 'VERB', 'ADV']):\n",
        "    texts_out = []\n",
        "    for sent in texts:\n",
        "        doc = nlp(\" \".join(sent)) \n",
        "        texts_out.append([token.lemma_ for token in doc if token.pos_ in allowed_postags])\n",
        "    return texts_out"
      ],
      "execution_count": null,
      "outputs": []
    },
    {
      "cell_type": "code",
      "metadata": {
        "id": "EpjmWmrWHAl4",
        "outputId": "1fb535ca-dd11-487d-bad5-7cd8e27f9aaf",
        "colab": {
          "base_uri": "https://localhost:8080/"
        }
      },
      "source": [
        "data_words_nostops = remove_stopwords(data_words)\n",
        "\n",
        "data_words_bigrams = make_bigrams(data_words)\n",
        "\n",
        "nlp = spacy.load(\"en_core_web_sm\", disable=['parser', 'ner'])\n",
        "\n",
        "data_lemmatized = lemmatization(data_words_bigrams, allowed_postags=['NOUN', 'ADJ', 'VERB', 'ADV'])"
      ],
      "execution_count": null,
      "outputs": [
        {
          "output_type": "stream",
          "text": [
            "['phlipls', 'cheap', 'qualityplastic', 'poor', 'juicer', 'juicer', 'very', 'poor', 'quality', 'plastic', 'material', 'see', 'pic', 'attach', 'new', 'year', 'old', 'onephilip', 'ruin', 'name', 'such', 'quality']\n"
          ],
          "name": "stdout"
        }
      ]
    },
    {
      "cell_type": "code",
      "metadata": {
        "id": "IdZ6X60uH85X",
        "outputId": "39373133-c2a4-4a47-9d73-3af220a3770e",
        "colab": {
          "base_uri": "https://localhost:8080/"
        }
      },
      "source": [
        "print(data_lemmatized[0])"
      ],
      "execution_count": null,
      "outputs": [
        {
          "output_type": "stream",
          "text": [
            "['phlipls', 'cheap', 'qualityplastic', 'poor', 'juicer', 'juicer', 'very', 'poor', 'quality', 'plastic', 'material', 'see', 'pic', 'attach', 'new', 'year', 'old', 'onephilip', 'ruin', 'name', 'such', 'quality']\n"
          ],
          "name": "stdout"
        }
      ]
    },
    {
      "cell_type": "code",
      "metadata": {
        "id": "M_iSFM7RJc5m",
        "outputId": "05aa649a-ee97-4558-82aa-2dc9e81747a7",
        "colab": {
          "base_uri": "https://localhost:8080/"
        }
      },
      "source": [
        "id2word = corpora.Dictionary(data_lemmatized)\n",
        "\n",
        "texts = data_lemmatized\n",
        "\n",
        "corpus = [id2word.doc2bow(text) for text in texts]\n",
        "\n",
        "print(corpus[:1][0][:30])"
      ],
      "execution_count": null,
      "outputs": [
        {
          "output_type": "stream",
          "text": [
            "[(0, 1), (1, 1), (2, 2), (3, 1), (4, 1), (5, 1), (6, 1), (7, 1), (8, 1), (9, 1), (10, 1), (11, 2), (12, 2), (13, 1), (14, 1), (15, 1), (16, 1), (17, 1), (18, 1)]\n"
          ],
          "name": "stdout"
        }
      ]
    },
    {
      "cell_type": "code",
      "metadata": {
        "id": "tbAQ4ssqKU76"
      },
      "source": [
        "lda_model = gensim.models.LdaMulticore(corpus=corpus,\n",
        "                                       id2word=id2word,\n",
        "                                       num_topics=4, \n",
        "                                       random_state=14,\n",
        "                                       passes=20)"
      ],
      "execution_count": null,
      "outputs": []
    },
    {
      "cell_type": "code",
      "metadata": {
        "id": "uwVwuO6sJ_pc",
        "outputId": "866488b5-884d-4e84-843d-6fb8cc9e24ec",
        "colab": {
          "base_uri": "https://localhost:8080/"
        }
      },
      "source": [
        "from pprint import pprint\n",
        "\n",
        "pprint(lda_model.print_topics())\n",
        "doc_lda = lda_model[corpus]"
      ],
      "execution_count": null,
      "outputs": [
        {
          "output_type": "stream",
          "text": [
            "[(0,\n",
            "  '0.074*\"product\" + 0.073*\"good\" + 0.045*\"easy\" + 0.045*\"very\" + 0.038*\"star\" '\n",
            "  '+ 0.036*\"juicer\" + 0.029*\"clean\" + 0.027*\"use\" + 0.024*\"juice\" + '\n",
            "  '0.020*\"excellent\"'),\n",
            " (1,\n",
            "  '0.054*\"juice\" + 0.029*\"juicer\" + 0.024*\"good\" + 0.020*\"fruit\" + '\n",
            "  '0.015*\"pulp\" + 0.014*\"can\" + 0.011*\"extract\" + 0.010*\"use\" + 0.010*\"make\" + '\n",
            "  '0.010*\"clean\"'),\n",
            " (2,\n",
            "  '0.030*\"product\" + 0.022*\"juicer\" + 0.020*\"use\" + 0.015*\"juice\" + '\n",
            "  '0.014*\"very\" + 0.013*\"get\" + 0.013*\"buy\" + 0.012*\"work\" + 0.011*\"day\" + '\n",
            "  '0.010*\"bad\"'),\n",
            " (3,\n",
            "  '0.033*\"product\" + 0.012*\"receive\" + 0.011*\"poor\" + 0.010*\"damage\" + '\n",
            "  '0.010*\"work\" + 0.009*\"juicer\" + 0.009*\"well\" + 0.008*\"purchase\" + '\n",
            "  '0.007*\"open\" + 0.007*\"damaged\"')]\n"
          ],
          "name": "stdout"
        }
      ]
    },
    {
      "cell_type": "markdown",
      "metadata": {
        "id": "Q9KtWWNPLrry"
      },
      "source": [
        "This is meaningful.\n",
        "\n",
        "\n",
        "*   Topic 1 is about good juicer and cleanliness\n",
        "*   Topic 2 is about vegeatable, fruits, pulp etc\n",
        "*   Topic 3 is about not working and returns and service\n",
        "*   Topic 4 is about recived damaged product etc\n",
        "\n",
        "This can also be seen from the visualization below\n",
        "\n",
        "\n",
        "\n",
        "\n",
        "\n",
        "\n",
        "\n",
        "\n"
      ]
    },
    {
      "cell_type": "code",
      "metadata": {
        "id": "nXhtTJ6zUB6u",
        "outputId": "e3e5a5e2-ccd5-488d-847c-5b920729930e",
        "colab": {
          "base_uri": "https://localhost:8080/",
          "height": 861
        }
      },
      "source": [
        "import pyLDAvis.gensim\n",
        "import pyLDAvis\n",
        "\n",
        "pyLDAvis.enable_notebook()\n",
        "\n",
        "LDAvis_prepared = pyLDAvis.gensim.prepare(lda_model, corpus, id2word)\n",
        "\n",
        "LDAvis_prepared"
      ],
      "execution_count": null,
      "outputs": [
        {
          "output_type": "execute_result",
          "data": {
            "text/html": [
              "\n",
              "<link rel=\"stylesheet\" type=\"text/css\" href=\"https://cdn.rawgit.com/bmabey/pyLDAvis/files/ldavis.v1.0.0.css\">\n",
              "\n",
              "\n",
              "<div id=\"ldavis_el1011404761460643848917116514\"></div>\n",
              "<script type=\"text/javascript\">\n",
              "\n",
              "var ldavis_el1011404761460643848917116514_data = {\"mdsDat\": {\"x\": [0.15359241850017177, 0.05577088853589397, -0.04813975760415414, -0.16122354943191147], \"y\": [-0.09102301358202203, 0.10826188153941062, 0.04565881549853129, -0.06289768345591977], \"topics\": [1, 2, 3, 4], \"cluster\": [1, 1, 1, 1], \"Freq\": [34.37621654735267, 30.661285028639252, 28.2310373181191, 6.731461105888982]}, \"tinfo\": {\"Term\": [\"product\", \"star\", \"easy\", \"good\", \"excellent\", \"juice\", \"clean\", \"nice\", \"very\", \"pulp\", \"receive\", \"fruit\", \"bad\", \"poor\", \"work\", \"day\", \"service\", \"damage\", \"purchase\", \"great\", \"waste\", \"get\", \"return\", \"well\", \"lot\", \"extract\", \"motor\", \"love\", \"defective\", \"year\", \"excellent\", \"star\", \"nice\", \"lover\", \"operate\", \"fuss\", \"enjoy\", \"value\", \"type\", \"timely\", \"minimum\", \"ready\", \"maintenance\", \"meet\", \"tough\", \"trouble\", \"easy\", \"member\", \"search\", \"maintain\", \"nicely\", \"describe\", \"thank\", \"blow\", \"setup\", \"must\", \"weak\", \"silver\", \"expectation\", \"mark\", \"awesome\", \"great\", \"useful\", \"clean\", \"good\", \"very\", \"worth\", \"product\", \"amazing\", \"happy\", \"assemble\", \"money\", \"really\", \"use\", \"delivery\", \"juicer\", \"price\", \"fresh\", \"ever\", \"love\", \"quick\", \"juice\", \"quality\", \"fast\", \"buy\", \"make\", \"recommend\", \"fruit\", \"work\", \"so\", \"just\", \"slow\", \"dry\", \"class\", \"beet\", \"otherwise\", \"free\", \"feed\", \"pomegranate\", \"difficulty\", \"eat\", \"atleast\", \"raw\", \"serve\", \"left\", \"heat\", \"compartment\", \"solution\", \"vege\", \"research\", \"lot\", \"amount\", \"pineapple\", \"stuck\", \"fiber\", \"taste\", \"content\", \"chute\", \"habit\", \"percent\", \"seeve\", \"water\", \"satisfy\", \"orange\", \"pulp\", \"cut\", \"remain\", \"whole\", \"extract\", \"carrot\", \"fruit\", \"container\", \"may\", \"juice\", \"waste\", \"apple\", \"can\", \"effort\", \"remove\", \"leave\", \"need\", \"try\", \"more\", \"vegetable\", \"juicer\", \"cleaning\", \"take\", \"make\", \"good\", \"give\", \"clean\", \"use\", \"less\", \"so\", \"much\", \"very\", \"product\", \"will\", \"easy\", \"buy\", \"well\", \"also\", \"how\", \"faulty\", \"bad\", \"switch\", \"call\", \"twice\", \"write\", \"return\", \"stop\", \"center\", \"broken\", \"request\", \"noisy\", \"tell\", \"update\", \"seem\", \"household\", \"today\", \"replace\", \"ask\", \"repair\", \"hour\", \"smell\", \"outer\", \"flimsy\", \"rating\", \"refund\", \"clamp\", \"immediately\", \"burn\", \"service\", \"day\", \"gift\", \"break\", \"defective\", \"plastic\", \"get\", \"short\", \"year\", \"come\", \"replacement\", \"motor\", \"start\", \"machine\", \"now\", \"when\", \"month\", \"work\", \"even\", \"buy\", \"time\", \"will\", \"use\", \"product\", \"part\", \"juicer\", \"only\", \"just\", \"very\", \"juice\", \"so\", \"make\", \"quality\", \"good\", \"go\", \"can\", \"damaged\", \"condition\", \"real\", \"original\", \"open\", \"dammage\", \"ruin\", \"peace\", \"push\", \"lock\", \"genuine\", \"shopping\", \"dust\", \"scratch\", \"productand\", \"qualitynot\", \"fuiler\", \"devil\", \"qualityplastic\", \"phlipls\", \"onephilip\", \"substandard\", \"impulse\", \"alright\", \"moment\", \"lightning\", \"repute\", \"geen\", \"stock\", \"online\", \"damage\", \"penny\", \"poor\", \"receive\", \"warranty\", \"useless\", \"at\", \"pack\", \"box\", \"test\", \"additional\", \"all\", \"support\", \"braun\", \"problem\", \"customer\", \"purchase\", \"product\", \"well\", \"doesn\", \"old\", \"work\", \"love\", \"year\", \"defective\", \"item\", \"waste\", \"juicer\", \"buy\", \"motor\", \"just\", \"very\", \"look\"], \"Freq\": [952.0, 336.0, 430.0, 849.0, 168.0, 709.0, 328.0, 141.0, 537.0, 140.0, 46.0, 232.0, 70.0, 40.0, 175.0, 95.0, 73.0, 26.0, 54.0, 156.0, 72.0, 131.0, 57.0, 104.0, 68.0, 111.0, 81.0, 79.0, 35.0, 35.0, 165.42602285169946, 322.9833154049164, 132.607437359944, 11.433464488104777, 22.855983171279917, 8.961583332992113, 14.669061896191149, 35.033022335694035, 8.074054439877742, 7.194896849690635, 8.765407850828302, 7.133975475392084, 6.293980153559747, 5.44974568794234, 6.22358818459064, 5.410193269169751, 375.9041935853834, 5.334391214406873, 4.540945499595273, 4.517364219435938, 11.32905140270176, 4.479254130321176, 23.255783800189313, 3.7150949707410725, 3.7139245194876125, 53.29824540572932, 3.703967095616456, 3.696621961901345, 9.672737736468715, 8.017899771249992, 64.63881385246303, 123.69997844114124, 48.498356828449246, 245.66764584070003, 611.7719362096569, 375.6130069067531, 72.44647456856372, 627.1417936476652, 49.43041488925081, 47.01990758477032, 55.400087292861244, 48.179503332265526, 63.59811828513065, 230.8066505506616, 21.678086179279877, 300.5894548523067, 45.215192477724344, 24.029164986909624, 20.10275596166046, 46.87719596023941, 33.996535485321694, 202.06390905550901, 61.28669642714016, 38.22266051531645, 77.34059993053748, 59.60832134973393, 33.94688675894431, 57.359135108581505, 50.73170934245633, 45.94681431934636, 38.83733734566192, 20.144433052716057, 32.58692280824803, 11.690752362737943, 11.677100725191165, 11.612461613359443, 21.316651212162654, 11.538519182801954, 13.250489158728646, 8.758977844003732, 7.855107071625151, 7.819661313472562, 8.684252768584964, 7.810794840144759, 6.923680459228541, 6.919200386434797, 7.762062503625654, 7.747466264506928, 5.97382623720381, 5.947641776576382, 61.33833952061028, 27.244888386196834, 10.180300306965972, 5.925711524789442, 18.45234085555922, 21.073467520724023, 6.703975238186664, 5.855271298669935, 5.018419088607373, 5.017915709641783, 5.0116558639140525, 27.553794986266148, 8.297201617897594, 31.23377711694351, 111.7660283816855, 22.444540506736953, 19.28036160996115, 22.344822446816263, 83.23043955916758, 57.88860905688515, 153.42364755268045, 22.917548649588326, 18.013191295095897, 405.563695667213, 52.248978741261006, 37.2225755954673, 103.37215349002777, 13.606171483163859, 29.830619193384766, 34.55791671735835, 52.80314733131558, 29.47560308006749, 60.2753432159547, 63.384694951240206, 221.8222561319256, 44.77690191669027, 51.860377183359624, 74.26357057958393, 178.60343730189385, 38.388754958210185, 72.86939118588793, 78.41556635136499, 30.896718063351738, 47.28494427837504, 34.880723580411356, 58.14501892121443, 61.05098454380162, 35.60508503645245, 46.4062179419089, 39.563089935637294, 34.30446934767178, 33.86532679074188, 20.80079430433842, 15.444999653050498, 66.83747297653215, 11.869786179101503, 23.607477972939392, 10.09191172838674, 10.035952291473054, 53.518624013881805, 30.705390555273212, 8.311098407728052, 9.133055030855415, 8.294076982438435, 9.116857391929676, 7.4158296345348065, 7.392562909101043, 10.658340622552293, 7.351920901025665, 8.14755666316865, 29.954668077078583, 7.289088248530003, 14.424086532248964, 5.617507629430958, 5.617368182228462, 5.610656983338404, 5.609539793612051, 6.416758943173914, 7.174714136674871, 5.574613508732614, 9.543563413407218, 16.409511619788244, 63.95603915896789, 78.71268711783948, 13.151261637112183, 35.671432693744975, 28.486783951458772, 38.93927551547828, 91.94217379923263, 16.66529647971882, 27.089052247385865, 44.605384525244986, 18.99740343372651, 51.12996920412908, 32.37248589137638, 37.98682694083621, 34.658265744134106, 39.3013126952851, 41.70908386257764, 83.01931970810236, 33.28069504253995, 91.16493861939355, 59.686665571526774, 49.72570846918788, 137.33210601888922, 209.05720827921803, 44.55478050574969, 152.8725794485109, 43.49708072929785, 48.929153806404166, 96.89117274897856, 101.92948884100282, 49.72538282369766, 54.10673332079608, 40.94525495945479, 56.86184248185664, 37.504703956244285, 38.808427288451995, 11.550590937791151, 7.729734213215755, 4.019565561781624, 3.262483435173971, 12.308685941663402, 2.527223336008904, 2.526415917149592, 2.522542190153773, 2.519113014412795, 11.363538069197599, 2.5085631385245533, 2.49844589768804, 2.487052469937499, 5.429731344525794, 1.74977987782412, 1.7497727665416172, 1.749746819970323, 1.749418739991069, 1.7493174522646093, 1.7491792627478644, 1.7491214115037192, 1.748365116999698, 1.7480281959665216, 1.7471141078696666, 1.7409313282254837, 1.7369643857698296, 1.731727791092177, 1.7285421287277163, 1.7262063607207607, 6.204173457100718, 16.916441823790503, 3.8272980089484006, 17.46043264042829, 19.442939808984114, 9.317246924921184, 4.461176589603388, 9.153645912841144, 7.688046722002995, 8.10081015966299, 2.5337536075116054, 2.526222374947419, 9.658290964374684, 4.064124473550947, 2.491067845992902, 10.031145884628582, 9.201665136236999, 13.313251077999386, 54.87589584635157, 14.13430668639649, 6.29579598965497, 6.502226142084716, 16.546332242976362, 10.356199917079145, 6.961099135493307, 6.738275362729381, 6.030532467307575, 8.073013117343399, 14.975893528363496, 9.94345646788889, 7.08541204151642, 7.6185145236581935, 6.961578858767014, 6.352692399976296], \"Total\": [952.0, 336.0, 430.0, 849.0, 168.0, 709.0, 328.0, 141.0, 537.0, 140.0, 46.0, 232.0, 70.0, 40.0, 175.0, 95.0, 73.0, 26.0, 54.0, 156.0, 72.0, 131.0, 57.0, 104.0, 68.0, 111.0, 81.0, 79.0, 35.0, 35.0, 168.97302608366957, 336.59081414136864, 141.1085918563783, 12.25901257935054, 24.527960573568272, 9.623216540639442, 15.762638277264882, 37.78729177329653, 8.748895360740535, 7.875692641938107, 9.636839603525196, 7.880911577683818, 6.998021075982318, 6.124653209629915, 7.00351396844071, 6.126030074587087, 430.9230900675176, 6.126457008403183, 5.245616967270954, 5.246190139268178, 13.226925286473712, 5.260357683489486, 27.324919119123276, 4.375264707447082, 4.3756210949401995, 62.945342166614836, 4.376111776462158, 4.376458703284235, 11.46416553159194, 9.544907944306928, 77.43704497819242, 156.45914372064436, 61.387062974480195, 328.121665563644, 849.9347483950618, 537.6107774357131, 95.6719994005925, 952.1258823170364, 65.02620369170143, 61.78434872739786, 76.74232737863105, 72.29590301255476, 100.65744668130473, 450.69899170206253, 29.35619342345653, 690.2601839611067, 70.81963575820798, 33.47643112223051, 27.176223560136698, 79.9711876636795, 55.95564152527699, 709.8533999243377, 137.5695104174003, 69.62770467465431, 218.01208495345722, 189.5221323847075, 60.50385198419033, 232.26022740462983, 175.5134345985881, 147.3877321927808, 125.37995927937779, 20.942319979637734, 34.256523418297014, 12.347707794515756, 12.34603539226383, 12.341696248411388, 22.782137249633212, 12.33636826129024, 14.231907468669023, 9.467222904074772, 8.522502390499898, 8.513882251293007, 9.46861566411582, 8.517837516591687, 7.568617268877115, 7.56834687588298, 8.517034157311212, 8.51350864477254, 6.612965336909535, 6.609713407811114, 68.31694108990865, 30.347565873139814, 11.351397204738486, 6.610090467398347, 20.623163036918687, 23.639899330516535, 7.534108327978686, 6.591775340430445, 5.656989629043534, 5.65696429007244, 5.656389160671679, 31.22358088508765, 9.430138416068576, 36.8559433295634, 140.5704272475276, 26.450611981009402, 22.60245040848202, 26.451598966955217, 111.26232764035792, 75.9019218737837, 232.26022740462983, 28.299134765724492, 21.68603314199921, 709.8533999243377, 72.85985557065173, 49.72129873972542, 160.01616974225198, 16.014816501736615, 41.15994152914118, 49.59517130854447, 89.42463526944196, 42.80717788062224, 112.70415102748551, 122.23248634604309, 690.2601839611067, 79.16042061171633, 98.39386851388832, 189.5221323847075, 849.9347483950618, 78.5910426390922, 328.121665563644, 450.69899170206253, 54.881038227888084, 147.3877321927808, 81.429856551015, 537.6107774357131, 952.1258823170364, 99.85581393918036, 430.9230900675176, 218.01208495345722, 104.15914624641707, 98.05516265078508, 21.550718282088578, 16.15780210694705, 70.13552610714191, 12.566012262284785, 25.03057466241178, 10.766576839682248, 10.770377054960566, 57.52070858641797, 33.00958651980424, 8.967855522232576, 9.870928951780506, 8.96851220078905, 9.866109640376093, 8.069020379628807, 8.067763708103595, 11.656339077333833, 8.071032986749529, 8.977975123509115, 33.11552046445859, 8.076418839056004, 16.014128768707234, 6.27094396274968, 6.271035536907402, 6.270341441929922, 6.270092062811752, 7.1748134194497535, 8.037317148443169, 6.265130531246862, 10.752077494205238, 18.6153927461607, 73.36201509746638, 95.97945491723846, 15.095132744846662, 42.80974222987672, 35.824990239584984, 51.053861828522635, 131.3876456991052, 20.418263989443744, 35.753727605495996, 66.44457957686357, 24.385847879484604, 81.15139454923319, 46.96592263676541, 57.68117669055531, 52.16663206929889, 62.854966793871036, 70.42427988306034, 175.5134345985881, 54.37429737196072, 218.01208495345722, 127.72245194272499, 99.85581393918036, 450.69899170206253, 952.1258823170364, 92.86221050758733, 690.2601839611067, 95.46662794129732, 125.37995927937779, 537.6107774357131, 709.8533999243377, 147.3877321927808, 189.5221323847075, 137.5695104174003, 849.9347483950618, 99.04001160966094, 160.01616974225198, 12.590450776911318, 8.693221844143679, 4.77740558364737, 3.994910505674987, 15.26929775503637, 3.2099325458707386, 3.210064207784675, 3.2105484377714335, 3.2116062373505243, 14.500364321235637, 3.2122648348745906, 3.2163672486159482, 3.216207704621187, 7.222786198135445, 2.432216570187177, 2.4322178197942006, 2.4322220655685554, 2.4322727922807577, 2.4323002241883174, 2.4323370380267924, 2.4323523958057223, 2.432430788905746, 2.4324348031244867, 2.4326913579920246, 2.4337555822580046, 2.434319909273831, 2.4350430199617477, 2.43510140898976, 2.435898336886992, 8.87601934158291, 26.350486110706477, 5.704446611352682, 40.61178731866046, 46.69733041323225, 20.136021236262863, 8.302596663234315, 22.09354933511622, 17.551823576324097, 19.873441261887066, 4.084442357951675, 4.108939365009493, 28.509416638303207, 8.36428788864377, 4.117581171261804, 33.816827654175704, 30.221863192032103, 54.588905314572585, 952.1258823170364, 104.15914624641707, 21.146827380387904, 23.41097239452344, 175.5134345985881, 79.9711876636795, 35.753727605495996, 35.824990239584984, 27.73560894071695, 72.85985557065173, 690.2601839611067, 218.01208495345722, 81.15139454923319, 125.37995927937779, 537.6107774357131, 83.76600239359279], \"Category\": [\"Default\", \"Default\", \"Default\", \"Default\", \"Default\", \"Default\", \"Default\", \"Default\", \"Default\", \"Default\", \"Default\", \"Default\", \"Default\", \"Default\", \"Default\", \"Default\", \"Default\", \"Default\", \"Default\", \"Default\", \"Default\", \"Default\", \"Default\", \"Default\", \"Default\", \"Default\", \"Default\", \"Default\", \"Default\", \"Default\", \"Topic1\", \"Topic1\", \"Topic1\", \"Topic1\", \"Topic1\", \"Topic1\", \"Topic1\", \"Topic1\", \"Topic1\", \"Topic1\", \"Topic1\", \"Topic1\", \"Topic1\", \"Topic1\", \"Topic1\", \"Topic1\", \"Topic1\", \"Topic1\", \"Topic1\", \"Topic1\", \"Topic1\", \"Topic1\", \"Topic1\", \"Topic1\", \"Topic1\", \"Topic1\", \"Topic1\", \"Topic1\", \"Topic1\", \"Topic1\", \"Topic1\", \"Topic1\", \"Topic1\", \"Topic1\", \"Topic1\", \"Topic1\", \"Topic1\", \"Topic1\", \"Topic1\", \"Topic1\", \"Topic1\", \"Topic1\", \"Topic1\", \"Topic1\", \"Topic1\", \"Topic1\", \"Topic1\", \"Topic1\", \"Topic1\", \"Topic1\", \"Topic1\", \"Topic1\", \"Topic1\", \"Topic1\", \"Topic1\", \"Topic1\", \"Topic1\", \"Topic1\", \"Topic1\", \"Topic1\", \"Topic1\", \"Topic2\", \"Topic2\", \"Topic2\", \"Topic2\", \"Topic2\", \"Topic2\", \"Topic2\", \"Topic2\", \"Topic2\", \"Topic2\", \"Topic2\", \"Topic2\", \"Topic2\", \"Topic2\", \"Topic2\", \"Topic2\", \"Topic2\", \"Topic2\", \"Topic2\", \"Topic2\", \"Topic2\", \"Topic2\", \"Topic2\", \"Topic2\", \"Topic2\", \"Topic2\", \"Topic2\", \"Topic2\", \"Topic2\", \"Topic2\", \"Topic2\", \"Topic2\", \"Topic2\", \"Topic2\", \"Topic2\", \"Topic2\", \"Topic2\", \"Topic2\", \"Topic2\", \"Topic2\", \"Topic2\", \"Topic2\", \"Topic2\", \"Topic2\", \"Topic2\", \"Topic2\", \"Topic2\", \"Topic2\", \"Topic2\", \"Topic2\", \"Topic2\", \"Topic2\", \"Topic2\", \"Topic2\", \"Topic2\", \"Topic2\", \"Topic2\", \"Topic2\", \"Topic2\", \"Topic2\", \"Topic2\", \"Topic2\", \"Topic2\", \"Topic2\", \"Topic2\", \"Topic2\", \"Topic2\", \"Topic2\", \"Topic2\", \"Topic2\", \"Topic2\", \"Topic3\", \"Topic3\", \"Topic3\", \"Topic3\", \"Topic3\", \"Topic3\", \"Topic3\", \"Topic3\", \"Topic3\", \"Topic3\", \"Topic3\", \"Topic3\", \"Topic3\", \"Topic3\", \"Topic3\", \"Topic3\", \"Topic3\", \"Topic3\", \"Topic3\", \"Topic3\", \"Topic3\", \"Topic3\", \"Topic3\", \"Topic3\", \"Topic3\", \"Topic3\", \"Topic3\", \"Topic3\", \"Topic3\", \"Topic3\", \"Topic3\", \"Topic3\", \"Topic3\", \"Topic3\", \"Topic3\", \"Topic3\", \"Topic3\", \"Topic3\", \"Topic3\", \"Topic3\", \"Topic3\", \"Topic3\", \"Topic3\", \"Topic3\", \"Topic3\", \"Topic3\", \"Topic3\", \"Topic3\", \"Topic3\", \"Topic3\", \"Topic3\", \"Topic3\", \"Topic3\", \"Topic3\", \"Topic3\", \"Topic3\", \"Topic3\", \"Topic3\", \"Topic3\", \"Topic3\", \"Topic3\", \"Topic3\", \"Topic3\", \"Topic3\", \"Topic3\", \"Topic3\", \"Topic4\", \"Topic4\", \"Topic4\", \"Topic4\", \"Topic4\", \"Topic4\", \"Topic4\", \"Topic4\", \"Topic4\", \"Topic4\", \"Topic4\", \"Topic4\", \"Topic4\", \"Topic4\", \"Topic4\", \"Topic4\", \"Topic4\", \"Topic4\", \"Topic4\", \"Topic4\", \"Topic4\", \"Topic4\", \"Topic4\", \"Topic4\", \"Topic4\", \"Topic4\", \"Topic4\", \"Topic4\", \"Topic4\", \"Topic4\", \"Topic4\", \"Topic4\", \"Topic4\", \"Topic4\", \"Topic4\", \"Topic4\", \"Topic4\", \"Topic4\", \"Topic4\", \"Topic4\", \"Topic4\", \"Topic4\", \"Topic4\", \"Topic4\", \"Topic4\", \"Topic4\", \"Topic4\", \"Topic4\", \"Topic4\", \"Topic4\", \"Topic4\", \"Topic4\", \"Topic4\", \"Topic4\", \"Topic4\", \"Topic4\", \"Topic4\", \"Topic4\", \"Topic4\", \"Topic4\", \"Topic4\", \"Topic4\", \"Topic4\"], \"logprob\": [30.0, 29.0, 28.0, 27.0, 26.0, 25.0, 24.0, 23.0, 22.0, 21.0, 20.0, 19.0, 18.0, 17.0, 16.0, 15.0, 14.0, 13.0, 12.0, 11.0, 10.0, 9.0, 8.0, 7.0, 6.0, 5.0, 4.0, 3.0, 2.0, 1.0, -3.9312000274658203, -3.2620999813079834, -4.152299880981445, -6.603099822998047, -5.9105000495910645, -6.846700191497803, -6.353899955749512, -5.483399868011475, -6.951000213623047, -7.066299915313721, -6.868899822235107, -7.07480001449585, -7.200099945068359, -7.344099998474121, -7.211299896240234, -7.351399898529053, -3.110300064086914, -7.365499973297119, -7.526500225067139, -7.531799793243408, -6.612299919128418, -7.540200233459473, -5.893099784851074, -7.72730016708374, -7.72760009765625, -5.063799858093262, -7.730299949645996, -7.7322998046875, -6.770400047302246, -6.958000183105469, -4.8709001541137695, -4.221799850463867, -5.158199787139893, -3.5357000827789307, -2.623300075531006, -3.1110999584198, -4.756800174713135, -2.5985000133514404, -5.139100074768066, -5.1890997886657715, -5.025100231170654, -5.16480016708374, -4.8871002197265625, -3.598099946975708, -5.963399887084961, -3.333899974822998, -5.228300094604492, -5.860400199890137, -6.03879976272583, -5.192200183868408, -5.513400077819824, -3.731100082397461, -4.924099922180176, -5.396299839019775, -4.691500186920166, -4.951900005340576, -5.514900207519531, -4.9903998374938965, -5.113100051879883, -5.212200164794922, -5.380300045013428, -5.922399997711182, -5.441400051116943, -6.4664998054504395, -6.467700004577637, -6.473199844360352, -5.865799903869629, -6.479599952697754, -6.341300010681152, -6.755199909210205, -6.864200115203857, -6.86870002746582, -6.763800144195557, -6.869800090789795, -6.9903998374938965, -6.991000175476074, -6.876100063323975, -6.877999782562256, -7.137899875640869, -7.142300128936768, -4.808899879455566, -5.620500087738037, -6.604899883270264, -7.145999908447266, -6.0100998878479, -5.877299785614014, -7.022600173950195, -7.1579999923706055, -7.31220006942749, -7.312300205230713, -7.313600063323975, -5.6092000007629395, -6.8094000816345215, -5.483799934387207, -4.208899974822998, -5.814300060272217, -5.96619987487793, -5.818699836730957, -4.503699779510498, -4.866799831390381, -3.8921000957489014, -5.793399810791016, -6.034200191497803, -2.9200000762939453, -4.969299793243408, -5.3084001541137695, -4.2870001792907715, -6.314799785614014, -5.529799938201904, -5.382699966430664, -4.958700180053711, -5.541800022125244, -4.826399803161621, -4.776100158691406, -3.523400068283081, -5.123600006103516, -4.976799964904785, -4.617700099945068, -3.7402000427246094, -5.277599811553955, -4.63670015335083, -4.563300132751465, -5.494699954986572, -5.0690999031066895, -5.3734002113342285, -4.862400054931641, -4.813600063323975, -5.352799892425537, -5.087900161743164, -5.247399806976318, -5.389999866485596, -5.402900218963623, -5.807700157165527, -6.105500221252441, -4.640500068664551, -6.36870002746582, -5.68120002746582, -6.531000137329102, -6.536600112915039, -4.86269998550415, -5.418300151824951, -6.725100040435791, -6.630799770355225, -6.727200031280518, -6.632599830627441, -6.839099884033203, -6.842299938201904, -6.476399898529053, -6.847799777984619, -6.744999885559082, -5.4430999755859375, -6.856400012969971, -6.173799991607666, -7.1168999671936035, -7.1168999671936035, -7.118100166320801, -7.118299961090088, -6.983799934387207, -6.872200012207031, -7.124499797821045, -6.586900234222412, -6.044899940490723, -4.684500217437744, -4.476900100708008, -6.266200065612793, -5.268400192260742, -5.493299961090088, -5.180699825286865, -4.321599960327148, -6.029399871826172, -5.543600082397461, -5.044899940490723, -5.898399829864502, -4.908400058746338, -5.3653998374938965, -5.20550012588501, -5.2972002029418945, -5.171500205993652, -5.111999988555908, -4.423699855804443, -5.337800025939941, -4.330100059509277, -4.753600120544434, -4.936200141906738, -3.920300006866455, -3.5000998973846436, -5.046000003814697, -3.8131000995635986, -5.070000171661377, -4.952400207519531, -4.269199848175049, -4.218500137329102, -4.936200141906738, -4.851799964904785, -5.130499839782715, -4.80210018157959, -5.218299865722656, -5.184100151062012, -4.962399959564209, -5.363999843597412, -6.017899990081787, -6.226600170135498, -4.898799896240234, -6.48199987411499, -6.4822998046875, -6.483799934387207, -6.485199928283691, -4.978700160980225, -6.4893999099731445, -6.4934000968933105, -6.498000144958496, -5.717199802398682, -6.849599838256836, -6.849599838256836, -6.849599838256836, -6.849800109863281, -6.849899768829346, -6.849999904632568, -6.849999904632568, -6.850399971008301, -6.850599765777588, -6.851099967956543, -6.854700088500977, -6.85699987411499, -6.860000133514404, -6.861800193786621, -6.8632001876831055, -5.583899974822998, -4.5808000564575195, -6.066999912261963, -4.549200057983398, -4.4415998458862305, -5.177199840545654, -5.913700103759766, -5.195000171661377, -5.3694000244140625, -5.3171000480651855, -6.479400157928467, -6.482399940490723, -5.141300201416016, -6.006899833679199, -6.496399879455566, -5.103400230407715, -5.189700126647949, -4.820400238037109, -3.4040000438690186, -4.760499954223633, -5.569200038909912, -5.5370001792907715, -4.60290002822876, -5.071499824523926, -5.468800067901611, -5.501299858093262, -5.612299919128418, -5.3206000328063965, -4.702700138092041, -5.112199783325195, -5.451099872589111, -5.378499984741211, -5.468699932098389, -5.560200214385986], \"loglift\": [30.0, 29.0, 28.0, 27.0, 26.0, 25.0, 24.0, 23.0, 22.0, 21.0, 20.0, 19.0, 18.0, 17.0, 16.0, 15.0, 14.0, 13.0, 12.0, 11.0, 10.0, 9.0, 8.0, 7.0, 6.0, 5.0, 4.0, 3.0, 2.0, 1.0, 1.0466, 1.0265, 1.0057, 0.9981, 0.9972, 0.9966, 0.9959, 0.9921, 0.9875, 0.9774, 0.973, 0.9682, 0.9618, 0.9511, 0.9497, 0.9435, 0.9312, 0.9294, 0.9235, 0.9182, 0.9129, 0.9071, 0.9066, 0.9042, 0.9038, 0.9014, 0.901, 0.899, 0.8979, 0.8935, 0.8872, 0.8329, 0.8321, 0.7784, 0.739, 0.7092, 0.7897, 0.6503, 0.7936, 0.7947, 0.7419, 0.662, 0.6087, 0.3986, 0.7646, 0.2365, 0.6191, 0.7362, 0.7663, 0.5337, 0.5695, -0.1887, 0.2592, 0.4681, 0.0315, -0.0889, 0.4899, -0.3307, -0.1734, -0.0978, -0.1042, 1.1433, 1.1322, 1.1275, 1.1265, 1.1213, 1.1157, 1.1153, 1.1107, 1.1044, 1.1006, 1.0971, 1.0957, 1.0955, 1.0931, 1.0925, 1.0893, 1.0879, 1.0805, 1.0766, 1.0744, 1.0743, 1.0733, 1.0729, 1.0709, 1.0672, 1.0654, 1.0637, 1.0624, 1.0623, 1.0612, 1.0571, 1.0542, 1.0167, 0.9529, 1.0179, 1.0232, 1.0134, 0.8919, 0.9112, 0.7675, 0.9712, 0.9966, 0.6224, 0.8497, 0.8927, 0.7452, 1.0192, 0.8602, 0.8209, 0.6553, 0.809, 0.5563, 0.5255, 0.047, 0.6124, 0.5417, 0.2453, -0.3778, 0.4657, -0.3225, -0.5666, 0.6077, 0.0453, 0.3344, -1.042, -1.5648, 0.1509, -1.0463, -0.5245, 0.0715, 0.119, 1.2293, 1.2196, 1.2166, 1.2077, 1.2062, 1.2, 1.1941, 1.1926, 1.1924, 1.1887, 1.1871, 1.1866, 1.1858, 1.1803, 1.1773, 1.1752, 1.1714, 1.1677, 1.1644, 1.1622, 1.1602, 1.1547, 1.1547, 1.1536, 1.1534, 1.1531, 1.1512, 1.148, 1.1455, 1.1386, 1.1275, 1.0664, 1.1269, 1.0823, 1.0355, 0.9939, 0.9078, 1.0616, 0.9872, 0.8662, 1.015, 0.8028, 0.8926, 0.8471, 0.8558, 0.7952, 0.7409, 0.5161, 0.7738, 0.3929, 0.504, 0.5675, 0.0764, -0.2513, 0.5304, -0.2427, 0.4787, 0.3238, -0.4488, -0.676, 0.1782, 0.0112, 0.0529, -1.4398, 0.2937, -0.1519, 2.6122, 2.5809, 2.5257, 2.4958, 2.4828, 2.4592, 2.4589, 2.4572, 2.4555, 2.4546, 2.4511, 2.4458, 2.4413, 2.413, 2.3691, 2.3691, 2.369, 2.3688, 2.3688, 2.3687, 2.3686, 2.3682, 2.368, 2.3673, 2.3634, 2.3608, 2.3575, 2.3557, 2.354, 2.3402, 2.2552, 2.2993, 1.8543, 1.8222, 1.9277, 2.0772, 1.8172, 1.8729, 1.801, 2.2209, 2.2119, 1.616, 1.9766, 2.1958, 1.4831, 1.5092, 1.2873, -0.1552, 0.7011, 1.4868, 1.4173, 0.3368, 0.6543, 1.0621, 1.0275, 1.1725, 0.4984, -1.1322, -0.3893, 0.2601, -0.1024, -1.6484, 0.1192]}, \"token.table\": {\"Topic\": [3, 4, 1, 2, 3, 4, 4, 1, 2, 3, 4, 1, 2, 3, 2, 3, 1, 2, 3, 3, 1, 2, 3, 2, 3, 4, 2, 1, 2, 3, 4, 2, 3, 4, 2, 1, 1, 2, 3, 4, 3, 4, 2, 3, 4, 3, 3, 4, 1, 2, 3, 4, 3, 4, 1, 2, 3, 4, 1, 2, 3, 3, 2, 3, 2, 1, 2, 3, 4, 1, 2, 3, 4, 1, 2, 3, 4, 2, 4, 2, 3, 2, 2, 3, 4, 2, 3, 2, 3, 4, 3, 4, 4, 1, 2, 3, 3, 4, 1, 2, 3, 1, 4, 2, 1, 2, 3, 4, 1, 2, 3, 4, 1, 2, 3, 4, 2, 1, 2, 1, 3, 1, 2, 3, 4, 1, 3, 4, 1, 2, 3, 1, 2, 1, 2, 3, 1, 2, 3, 3, 2, 2, 4, 3, 1, 2, 1, 3, 1, 2, 3, 4, 1, 4, 4, 1, 2, 3, 4, 3, 4, 1, 2, 3, 4, 1, 2, 3, 4, 1, 2, 3, 4, 1, 2, 3, 4, 2, 1, 2, 3, 4, 2, 3, 3, 3, 1, 3, 4, 1, 2, 3, 4, 1, 2, 3, 1, 2, 3, 4, 1, 2, 3, 4, 1, 2, 3, 2, 1, 2, 3, 4, 4, 2, 3, 4, 1, 2, 3, 4, 1, 2, 3, 1, 2, 3, 4, 1, 1, 2, 3, 1, 1, 1, 2, 3, 4, 1, 4, 2, 3, 1, 1, 1, 4, 1, 2, 3, 4, 1, 2, 3, 4, 1, 2, 3, 2, 3, 4, 1, 2, 3, 4, 1, 2, 3, 4, 1, 2, 3, 4, 1, 2, 3, 1, 2, 3, 1, 2, 3, 4, 1, 2, 3, 4, 4, 1, 4, 1, 2, 3, 4, 2, 3, 4, 1, 3, 1, 2, 3, 4, 2, 3, 1, 2, 3, 4, 1, 2, 3, 4, 3, 4, 2, 4, 2, 2, 3, 4, 2, 2, 3, 4, 1, 2, 3, 4, 1, 2, 3, 4, 1, 2, 3, 4, 4, 1, 2, 3, 1, 2, 3, 4, 4, 1, 2, 3, 4, 4, 4, 1, 2, 3, 3, 2, 1, 4, 1, 2, 3, 4, 1, 2, 3, 4, 1, 2, 3, 4, 3, 2, 3, 4, 1, 2, 3, 3, 4, 2, 3, 4, 1, 2, 3, 4, 3, 2, 2, 3, 4, 4, 2, 3, 1, 4, 1, 1, 3, 2, 2, 2, 3, 4, 1, 4, 2, 3, 4, 1, 2, 3, 1, 2, 3, 4, 2, 1, 2, 3, 4, 1, 2, 3, 4, 4, 3, 4, 2, 4, 3, 4, 3, 1, 2, 3, 4, 1, 2, 3, 1, 4, 1, 2, 3, 1, 2, 3, 4, 1, 3, 1, 1, 1, 2, 3, 4, 3, 1, 3, 1, 2, 3, 4, 1, 2, 3, 4, 1, 2, 2, 1, 2, 3, 4, 1, 2, 3, 4, 3, 4, 1, 2, 3, 4, 2, 3, 1, 1, 2, 3, 4, 2, 3, 4, 2, 3, 1, 2, 3, 4, 1, 2, 3, 4, 1, 2, 3, 4, 3, 1, 3, 4], \"Freq\": [0.24337180745856288, 0.7301154223756886, 0.070152259703306, 0.24553290896157104, 0.35076129851653004, 0.35076129851653004, 0.8221347083054655, 0.3671402813150274, 0.3467435990197481, 0.2243635052480723, 0.061190046885837894, 0.7535423755062811, 0.2152978215732232, 0.030756831653317596, 0.8896924423153589, 0.09885471581281766, 0.08044842152934659, 0.744147899146456, 0.16089684305869317, 0.8667207755681702, 0.716684024041142, 0.22152051652180751, 0.05212247447571942, 0.13578624034082656, 0.4526208011360886, 0.4073587210224797, 0.9396418418618647, 0.8393915343529069, 0.07748229547872987, 0.06456857956560823, 0.02582743182624329, 0.02851621868416183, 0.9552933259194213, 0.014258109342080915, 0.9719719423062192, 0.9142303991782832, 0.10063682346929842, 0.4025472938771937, 0.10063682346929842, 0.4025472938771937, 0.2428610289408228, 0.4857220578816456, 0.07007750674813253, 0.8409300809775904, 0.07007750674813253, 0.9117682888778762, 0.8595037568197368, 0.1074379696024671, 0.35319142980738205, 0.18347606743240627, 0.4174080534087243, 0.04586901685810157, 0.9588273670776171, 0.03995114029490071, 0.09998989493231963, 0.6436849486268077, 0.24372536889752913, 0.012498736866539954, 0.15809876355903926, 0.7641440238686897, 0.07904938177951963, 0.8920750317806608, 0.9102251958132114, 0.957681563069669, 0.971840296166533, 0.749721904457067, 0.2224784513226256, 0.02438120014494527, 0.0030476500181181587, 0.30318181503507347, 0.5684659031907627, 0.12632575626461395, 0.012632575626461395, 0.015050136615631569, 0.2859525956969998, 0.6772561477034206, 0.030100273231263137, 0.9392941078124739, 0.9202572007741091, 0.812745696658446, 0.17668384709966217, 0.9291079574745137, 0.09926588512884739, 0.5625066823968019, 0.2977976553865422, 0.8317387898546627, 0.11341892588927217, 0.1517998561087174, 0.18974982013589678, 0.6451493884620491, 0.07942527378239903, 0.9531032853887883, 0.9345990786813274, 0.1458645499922038, 0.031256689284043675, 0.82309281781315, 0.7815773238944606, 0.19539433097361514, 0.7494159642108538, 0.1703218100479213, 0.06812872401916852, 0.7604045657493349, 0.8222761880769909, 0.950648367656615, 0.0472884174071154, 0.472884174071154, 0.1891536696284616, 0.28373050444269243, 0.029191520335828426, 0.963320171082338, 0.029191520335828426, 0.6218503851994114, 0.8725454928420935, 0.10674758689025612, 0.018564797720044542, 0.002320599715005568, 0.9386914351491017, 0.12488435317277123, 0.8741904722093986, 0.9516173457862782, 0.06344115638575189, 0.055173126734452564, 0.2942566759170803, 0.6069043940789782, 0.055173126734452564, 0.7359374254389376, 0.22078122763168126, 0.03679687127194688, 0.9764872170679937, 0.011836208691733257, 0.011836208691733257, 0.8722832876446942, 0.08722832876446941, 0.2067186664865104, 0.7459847529730593, 0.04493884054054575, 0.5457597687236796, 0.3590524794234734, 0.08617259506163362, 0.9283440842211298, 0.9727336073173403, 0.8728050089977558, 0.09697833433308398, 0.9569237484703482, 0.04389403808091358, 0.9217747996991852, 0.7169223001212471, 0.2688458625454677, 0.24541438126080029, 0.6587438654895166, 0.09041582467503169, 0.8222933375668067, 0.9352382295454373, 0.8213210310734991, 0.9339205060024642, 0.10655491941808456, 0.15983237912712683, 0.7002180418902699, 0.03805532836360163, 0.8612047485596361, 0.06624651911997201, 0.17813734911612206, 0.483515661886617, 0.27993012003962037, 0.050896385461749155, 0.282714021787016, 0.282714021787016, 0.38368331528237887, 0.05048464674768143, 0.7200552761910773, 0.21060440267680203, 0.06706397180211014, 0.0035296827264268494, 0.7925391706182432, 0.09587167386511007, 0.10865456371379141, 0.006391444924340671, 0.8838623239345383, 0.7607104544772544, 0.09711197291198992, 0.12948263054931988, 0.016185328818664985, 0.9249047532831702, 0.956793751569281, 0.8672991439252103, 0.9744454790378706, 0.09300528205260271, 0.9300528205260271, 0.8222214208705533, 0.32449260512855194, 0.07210946780634488, 0.3966020729348968, 0.21632840341903462, 0.28456579910940893, 0.5719490813783169, 0.143691641134454, 0.4360674525259306, 0.3216178553513508, 0.2216555489583634, 0.021730936172388568, 0.31105449566384274, 0.23927268897218673, 0.3908120586545717, 0.06380605039258314, 0.060489759806175866, 0.7057138644053851, 0.24195903922470346, 0.9248717105546711, 0.21865475558554825, 0.5648581185959997, 0.14576983705703217, 0.07288491852851608, 0.8215847031364951, 0.13792756896949274, 0.06896378448474637, 0.7586016293322101, 0.2506983668783301, 0.3462025066415034, 0.3342644891711068, 0.07162810482238002, 0.01463765771778259, 0.892897120784738, 0.07318828858891295, 0.5877116668275515, 0.22508106389140267, 0.06252251774761186, 0.12504503549522372, 0.897299022151975, 0.017336678226325772, 0.3120602080738639, 0.6587937726003794, 0.9530725854891489, 0.8573852428927953, 0.3165857161115468, 0.3904557165375744, 0.28492714450039214, 0.010552857203718227, 0.8381432326722029, 0.10476790408402537, 0.8300273213702467, 0.13833788689504112, 0.8163727526871889, 0.8161323899183313, 0.933916135400631, 0.8217752080693443, 0.6639380379779531, 0.12448838212086621, 0.15215246703661425, 0.0553281698314961, 0.127796833917855, 0.24139401962261503, 0.5963852249499901, 0.04259894463928501, 0.16858296546119594, 0.532367259351145, 0.2928019926431298, 0.28342088423442047, 0.6284550041719759, 0.08625852998438883, 0.2947321905812794, 0.4298177779310325, 0.20876863499507292, 0.07368304764531985, 0.842000347852749, 0.04766039704826881, 0.06354719606435841, 0.04766039704826881, 0.14537381070473696, 0.5926778436423891, 0.22365201646882607, 0.044730403293765215, 0.9425365121308041, 0.014173481385425627, 0.04252044415627688, 0.8316369648847235, 0.07560336044406578, 0.9122136615194683, 0.11501605072049725, 0.17252407608074588, 0.670926962536234, 0.03833868357349909, 0.1708600536787496, 0.213575067098437, 0.3417201073574992, 0.2990050939378118, 0.8222492774684876, 0.2253262327438021, 0.6759786982314063, 0.1675978333479888, 0.3456705312802269, 0.45041917712271995, 0.0314245937527479, 0.13098179314371725, 0.06549089657185862, 0.7858907588623035, 0.9377053559351026, 0.040769798084134896, 0.02713266598708562, 0.8411126455996542, 0.10853066394834247, 0.750955495933723, 0.9723136721619307, 0.9568856904470716, 0.34184482164539787, 0.056974136940899645, 0.17092241082269893, 0.45579309552719716, 0.20460421840214107, 0.31229064914011007, 0.4845889383208605, 0.9344197909321738, 0.17530184225229734, 0.7012073690091893, 0.8838662829770086, 0.8222544691513964, 0.8809488223903958, 0.1566972548887689, 0.7638991175827483, 0.07834862744438445, 0.9134404526321565, 0.07387017903104079, 0.49246786020693856, 0.4185976811758978, 0.6354169930164391, 0.12708339860328782, 0.19768528671622548, 0.02824075524517507, 0.08871322971744099, 0.2069975360073623, 0.4435661485872049, 0.29571076572480326, 0.6585263688811509, 0.06406715869497641, 0.2195087896270503, 0.057765470954486926, 0.8222951954669421, 0.00711387181202146, 0.7967536429464036, 0.1991884107366009, 0.25646236940132744, 0.12823118470066372, 0.36637481343046774, 0.23814362872980405, 0.9341120231709685, 0.4434122053274713, 0.21080252384420767, 0.29803115440043154, 0.04361431527811193, 0.8222947729941505, 0.8222669143022505, 0.6076241657356585, 0.37529727883673025, 0.01787129899222525, 0.8362586800842757, 0.9505085346433713, 0.8882221213878007, 0.8372745269297713, 0.6358198236702026, 0.19869369489693833, 0.14902027117270375, 0.019869369489693832, 0.021414500382587996, 0.10707250191293997, 0.44970450803434786, 0.4068755072691719, 0.5619476923367492, 0.1818066063442424, 0.2313902262563085, 0.03305574660804407, 0.8709373875281134, 0.8406168205934818, 0.08848598111510335, 0.044242990557551674, 0.09718186788890372, 0.728864009166778, 0.1700682688055815, 0.8742280146614665, 0.06244485819010475, 0.030197320953274924, 0.9059196285982478, 0.030197320953274924, 0.08201478209345207, 0.1230221731401781, 0.7791404298877946, 0.8213407252375435, 0.8920097136397005, 0.9077549403139662, 0.05215512940861741, 0.9387923293551135, 0.017385043136205806, 0.9345607457709876, 0.8483438574314373, 0.10604298217892966, 0.13845072698651234, 0.6922536349325618, 0.953176724720193, 0.08579022910757081, 0.9436925201832789, 0.8839561525866203, 0.9392055183509894, 0.06815516167811315, 0.8723860694798484, 0.05452412934249053, 0.9141559365424595, 0.6218195390655811, 0.048975760158503225, 0.8325879226945548, 0.09795152031700645, 0.9139809766737367, 0.9550040310455598, 0.9567797797808264, 0.3121019593396874, 0.31888678454272407, 0.3392412601518341, 0.027139300812146726, 0.9396830770721254, 0.9596221478116141, 0.032680630420828964, 0.002970966401893542, 0.005941932803787084, 0.08516813415837717, 0.19162830185634863, 0.6813450732670173, 0.02129203353959429, 0.8210523278881755, 0.9391211241437823, 0.06058845962217951, 0.9077031592218932, 0.8222227777751985, 0.47822361607505376, 0.47822361607505376, 0.9549568908202012, 0.2845705776478114, 0.5284882156316497, 0.18293822848787875, 0.010163234915993264, 0.08460272914183767, 0.8883286559892956, 0.867515469123405, 0.24483146348073193, 0.7344943904421958, 0.8417225280606049, 0.07319326330961781, 0.07319326330961781, 0.29752012603892436, 0.2113958790276568, 0.46976862006145953, 0.023488431003072976, 0.8888107139586633, 0.8910695217958161, 0.8567127911841467, 0.8161892676207626, 0.0467211364780333, 0.6774564789314829, 0.2336056823901665, 0.0467211364780333, 0.9288003186995439, 0.9144011523899234, 0.8676505972738036, 0.5125372016645292, 0.17306450965295792, 0.30397227977506713, 0.008875103059126047, 0.7819237095600182, 0.19548092739000456, 0.36133273982640224, 0.48177698643520295, 0.9262373236478871, 0.05292784706559355, 0.9073085513561765, 0.3027018520694418, 0.5154112616317522, 0.17180375387725075, 0.008181131137011941, 0.69939074099935, 0.10788474196266569, 0.1804279305237685, 0.013020572305838963, 0.49662244008717316, 0.44696019607845583, 0.013724979169500363, 0.7136989168140189, 0.16469975003400436, 0.10979983335600291, 0.896758129794548, 0.09608122819227301, 0.9140534347213992, 0.2976214870911191, 0.3264235664870338, 0.24001732829928957, 0.13440970384760215, 0.33410247544745664, 0.6204760258309909, 0.04772892506392238, 0.8317077552658954, 0.11341469389989482, 0.09012995483149004, 0.36051981932596017, 0.5007219712860558, 0.060086636554326694, 0.29057604688006183, 0.14243923866669697, 0.4728982723734339, 0.09685868229335394, 0.7525712899395526, 0.09407141124244407, 0.09407141124244407, 0.05226189513469116, 0.928472601188484, 0.027969111669527903, 0.7551660150772533, 0.19578378168669533], \"Term\": [\"additional\", \"additional\", \"all\", \"all\", \"all\", \"all\", \"alright\", \"also\", \"also\", \"also\", \"also\", \"amazing\", \"amazing\", \"amazing\", \"amount\", \"amount\", \"apple\", \"apple\", \"apple\", \"ask\", \"assemble\", \"assemble\", \"assemble\", \"at\", \"at\", \"at\", \"atleast\", \"awesome\", \"awesome\", \"awesome\", \"awesome\", \"bad\", \"bad\", \"bad\", \"beet\", \"blow\", \"box\", \"box\", \"box\", \"box\", \"braun\", \"braun\", \"break\", \"break\", \"break\", \"broken\", \"burn\", \"burn\", \"buy\", \"buy\", \"buy\", \"buy\", \"call\", \"call\", \"can\", \"can\", \"can\", \"can\", \"carrot\", \"carrot\", \"carrot\", \"center\", \"chute\", \"clamp\", \"class\", \"clean\", \"clean\", \"clean\", \"clean\", \"cleaning\", \"cleaning\", \"cleaning\", \"cleaning\", \"come\", \"come\", \"come\", \"come\", \"compartment\", \"condition\", \"container\", \"container\", \"content\", \"customer\", \"customer\", \"customer\", \"cut\", \"cut\", \"damage\", \"damage\", \"damage\", \"damaged\", \"damaged\", \"dammage\", \"day\", \"day\", \"day\", \"defective\", \"defective\", \"delivery\", \"delivery\", \"delivery\", \"describe\", \"devil\", \"difficulty\", \"doesn\", \"doesn\", \"doesn\", \"doesn\", \"dry\", \"dry\", \"dry\", \"dust\", \"easy\", \"easy\", \"easy\", \"easy\", \"eat\", \"effort\", \"effort\", \"enjoy\", \"enjoy\", \"even\", \"even\", \"even\", \"even\", \"ever\", \"ever\", \"ever\", \"excellent\", \"excellent\", \"excellent\", \"expectation\", \"expectation\", \"extract\", \"extract\", \"extract\", \"fast\", \"fast\", \"fast\", \"faulty\", \"feed\", \"fiber\", \"fiber\", \"flimsy\", \"free\", \"free\", \"fresh\", \"fresh\", \"fruit\", \"fruit\", \"fruit\", \"fuiler\", \"fuss\", \"geen\", \"genuine\", \"get\", \"get\", \"get\", \"get\", \"gift\", \"gift\", \"give\", \"give\", \"give\", \"give\", \"go\", \"go\", \"go\", \"go\", \"good\", \"good\", \"good\", \"good\", \"great\", \"great\", \"great\", \"great\", \"habit\", \"happy\", \"happy\", \"happy\", \"happy\", \"heat\", \"hour\", \"household\", \"how\", \"immediately\", \"immediately\", \"impulse\", \"item\", \"item\", \"item\", \"item\", \"juice\", \"juice\", \"juice\", \"juicer\", \"juicer\", \"juicer\", \"juicer\", \"just\", \"just\", \"just\", \"just\", \"leave\", \"leave\", \"leave\", \"left\", \"less\", \"less\", \"less\", \"less\", \"lightning\", \"lock\", \"lock\", \"lock\", \"look\", \"look\", \"look\", \"look\", \"lot\", \"lot\", \"lot\", \"love\", \"love\", \"love\", \"love\", \"lover\", \"machine\", \"machine\", \"machine\", \"maintain\", \"maintenance\", \"make\", \"make\", \"make\", \"make\", \"mark\", \"mark\", \"may\", \"may\", \"meet\", \"member\", \"minimum\", \"moment\", \"money\", \"money\", \"money\", \"money\", \"month\", \"month\", \"month\", \"month\", \"more\", \"more\", \"more\", \"motor\", \"motor\", \"motor\", \"much\", \"much\", \"much\", \"much\", \"must\", \"must\", \"must\", \"must\", \"need\", \"need\", \"need\", \"need\", \"nice\", \"nice\", \"nice\", \"nicely\", \"nicely\", \"noisy\", \"now\", \"now\", \"now\", \"now\", \"old\", \"old\", \"old\", \"old\", \"onephilip\", \"online\", \"online\", \"only\", \"only\", \"only\", \"only\", \"open\", \"open\", \"open\", \"operate\", \"operate\", \"orange\", \"orange\", \"orange\", \"original\", \"otherwise\", \"outer\", \"pack\", \"pack\", \"pack\", \"pack\", \"part\", \"part\", \"part\", \"peace\", \"penny\", \"penny\", \"percent\", \"phlipls\", \"pineapple\", \"plastic\", \"plastic\", \"plastic\", \"pomegranate\", \"poor\", \"poor\", \"poor\", \"price\", \"price\", \"price\", \"price\", \"problem\", \"problem\", \"problem\", \"problem\", \"product\", \"product\", \"product\", \"product\", \"productand\", \"pulp\", \"pulp\", \"pulp\", \"purchase\", \"purchase\", \"purchase\", \"purchase\", \"push\", \"quality\", \"quality\", \"quality\", \"quality\", \"qualitynot\", \"qualityplastic\", \"quick\", \"quick\", \"quick\", \"rating\", \"raw\", \"ready\", \"real\", \"really\", \"really\", \"really\", \"really\", \"receive\", \"receive\", \"receive\", \"receive\", \"recommend\", \"recommend\", \"recommend\", \"recommend\", \"refund\", \"remain\", \"remain\", \"remain\", \"remove\", \"remove\", \"remove\", \"repair\", \"repair\", \"replace\", \"replace\", \"replace\", \"replacement\", \"replacement\", \"replacement\", \"repute\", \"request\", \"research\", \"return\", \"return\", \"return\", \"ruin\", \"satisfy\", \"satisfy\", \"scratch\", \"scratch\", \"search\", \"seem\", \"seem\", \"seeve\", \"serve\", \"service\", \"service\", \"service\", \"setup\", \"shopping\", \"short\", \"short\", \"short\", \"silver\", \"slow\", \"smell\", \"so\", \"so\", \"so\", \"so\", \"solution\", \"star\", \"star\", \"star\", \"star\", \"start\", \"start\", \"start\", \"start\", \"stock\", \"stop\", \"stop\", \"stuck\", \"substandard\", \"support\", \"support\", \"switch\", \"take\", \"take\", \"take\", \"take\", \"taste\", \"taste\", \"tell\", \"test\", \"test\", \"thank\", \"thank\", \"thank\", \"time\", \"time\", \"time\", \"time\", \"timely\", \"today\", \"tough\", \"trouble\", \"try\", \"try\", \"try\", \"try\", \"twice\", \"type\", \"update\", \"use\", \"use\", \"use\", \"use\", \"useful\", \"useful\", \"useless\", \"useless\", \"value\", \"value\", \"vege\", \"vegetable\", \"vegetable\", \"vegetable\", \"vegetable\", \"very\", \"very\", \"very\", \"very\", \"warranty\", \"warranty\", \"waste\", \"waste\", \"waste\", \"waste\", \"water\", \"water\", \"weak\", \"well\", \"well\", \"well\", \"well\", \"when\", \"when\", \"when\", \"whole\", \"whole\", \"will\", \"will\", \"will\", \"will\", \"work\", \"work\", \"work\", \"work\", \"worth\", \"worth\", \"worth\", \"worth\", \"write\", \"year\", \"year\", \"year\"]}, \"R\": 30, \"lambda.step\": 0.01, \"plot.opts\": {\"xlab\": \"PC1\", \"ylab\": \"PC2\"}, \"topic.order\": [1, 2, 3, 4]};\n",
              "\n",
              "function LDAvis_load_lib(url, callback){\n",
              "  var s = document.createElement('script');\n",
              "  s.src = url;\n",
              "  s.async = true;\n",
              "  s.onreadystatechange = s.onload = callback;\n",
              "  s.onerror = function(){console.warn(\"failed to load library \" + url);};\n",
              "  document.getElementsByTagName(\"head\")[0].appendChild(s);\n",
              "}\n",
              "\n",
              "if(typeof(LDAvis) !== \"undefined\"){\n",
              "   // already loaded: just create the visualization\n",
              "   !function(LDAvis){\n",
              "       new LDAvis(\"#\" + \"ldavis_el1011404761460643848917116514\", ldavis_el1011404761460643848917116514_data);\n",
              "   }(LDAvis);\n",
              "}else if(typeof define === \"function\" && define.amd){\n",
              "   // require.js is available: use it to load d3/LDAvis\n",
              "   require.config({paths: {d3: \"https://cdnjs.cloudflare.com/ajax/libs/d3/3.5.5/d3.min\"}});\n",
              "   require([\"d3\"], function(d3){\n",
              "      window.d3 = d3;\n",
              "      LDAvis_load_lib(\"https://cdn.rawgit.com/bmabey/pyLDAvis/files/ldavis.v1.0.0.js\", function(){\n",
              "        new LDAvis(\"#\" + \"ldavis_el1011404761460643848917116514\", ldavis_el1011404761460643848917116514_data);\n",
              "      });\n",
              "    });\n",
              "}else{\n",
              "    // require.js not available: dynamically load d3 & LDAvis\n",
              "    LDAvis_load_lib(\"https://cdnjs.cloudflare.com/ajax/libs/d3/3.5.5/d3.min.js\", function(){\n",
              "         LDAvis_load_lib(\"https://cdn.rawgit.com/bmabey/pyLDAvis/files/ldavis.v1.0.0.js\", function(){\n",
              "                 new LDAvis(\"#\" + \"ldavis_el1011404761460643848917116514\", ldavis_el1011404761460643848917116514_data);\n",
              "            })\n",
              "         });\n",
              "}\n",
              "</script>"
            ],
            "text/plain": [
              "PreparedData(topic_coordinates=              x         y  topics  cluster       Freq\n",
              "topic                                                \n",
              "0      0.153592 -0.091023       1        1  34.376217\n",
              "1      0.055771  0.108262       2        1  30.661285\n",
              "2     -0.048140  0.045659       3        1  28.231037\n",
              "3     -0.161224 -0.062898       4        1   6.731461, topic_info=          Term        Freq       Total Category  logprob  loglift\n",
              "97     product  952.000000  952.000000  Default  30.0000  30.0000\n",
              "934       star  336.000000  336.000000  Default  29.0000  29.0000\n",
              "54        easy  430.000000  430.000000  Default  28.0000  28.0000\n",
              "56        good  849.000000  849.000000  Default  27.0000  27.0000\n",
              "520  excellent  168.000000  168.000000  Default  26.0000  26.0000\n",
              "..         ...         ...         ...      ...      ...      ...\n",
              "260        buy    9.943456  218.012085   Topic4  -5.1122  -0.3893\n",
              "220      motor    7.085412   81.151395   Topic4  -5.4511   0.2601\n",
              "345       just    7.618515  125.379959   Topic4  -5.3785  -0.1024\n",
              "17        very    6.961579  537.610777   Topic4  -5.4687  -1.6484\n",
              "349       look    6.352692   83.766002   Topic4  -5.5602   0.1192\n",
              "\n",
              "[291 rows x 6 columns], token_table=      Topic      Freq        Term\n",
              "term                             \n",
              "482       3  0.243372  additional\n",
              "482       4  0.730115  additional\n",
              "132       1  0.070152         all\n",
              "132       2  0.245533         all\n",
              "132       3  0.350761         all\n",
              "...     ...       ...         ...\n",
              "255       4  0.052262       worth\n",
              "70        3  0.928473       write\n",
              "18        1  0.027969        year\n",
              "18        3  0.755166        year\n",
              "18        4  0.195784        year\n",
              "\n",
              "[512 rows x 3 columns], R=30, lambda_step=0.01, plot_opts={'xlab': 'PC1', 'ylab': 'PC2'}, topic_order=[1, 2, 3, 4])"
            ]
          },
          "metadata": {
            "tags": []
          },
          "execution_count": 117
        }
      ]
    },
    {
      "cell_type": "markdown",
      "metadata": {
        "id": "u1mzORKsLiOg"
      },
      "source": [
        "# Modelling based on product rating\n",
        "\n"
      ]
    },
    {
      "cell_type": "code",
      "metadata": {
        "id": "BW2bMjOoKA3D",
        "outputId": "0675b87c-bcb4-4c2e-883b-95d3a0f92049",
        "colab": {
          "base_uri": "https://localhost:8080/",
          "height": 281
        }
      },
      "source": [
        "reviews['rating'] = df.Rating\n",
        "reviews.head()"
      ],
      "execution_count": null,
      "outputs": [
        {
          "output_type": "execute_result",
          "data": {
            "text/html": [
              "<div>\n",
              "<style scoped>\n",
              "    .dataframe tbody tr th:only-of-type {\n",
              "        vertical-align: middle;\n",
              "    }\n",
              "\n",
              "    .dataframe tbody tr th {\n",
              "        vertical-align: top;\n",
              "    }\n",
              "\n",
              "    .dataframe thead th {\n",
              "        text-align: right;\n",
              "    }\n",
              "</style>\n",
              "<table border=\"1\" class=\"dataframe\">\n",
              "  <thead>\n",
              "    <tr style=\"text-align: right;\">\n",
              "      <th></th>\n",
              "      <th>reviews</th>\n",
              "      <th>review_processed</th>\n",
              "      <th>rating</th>\n",
              "    </tr>\n",
              "  </thead>\n",
              "  <tbody>\n",
              "    <tr>\n",
              "      <th>0</th>\n",
              "      <td>Phlipls cheap qualityplastic and poor juicer The juicer is of very poor quality plastic and material. See pics attached of new one and a 1 year old one.Philips in ruining their name with such qual...</td>\n",
              "      <td>phlipls cheap qualityplastic and poor juicer the juicer is of very poor quality plastic and material see pics attached of new one and a 1 year old onephilips in ruining their name with such quality</td>\n",
              "      <td>1</td>\n",
              "    </tr>\n",
              "    <tr>\n",
              "      <th>1</th>\n",
              "      <td>Leaves too much juice in the discarded pulp It leaves too much juice in the discarded pulp and therefore a complete failure for my purpose.I returned the juicer after using it once.It is not the q...</td>\n",
              "      <td>leaves too much juice in the discarded pulp it leaves too much juice in the discarded pulp and therefore a complete failure for my purposei returned the juicer after using it onceit is not the qua...</td>\n",
              "      <td>1</td>\n",
              "    </tr>\n",
              "    <tr>\n",
              "      <th>2</th>\n",
              "      <td>Nice juicer I am writing a review here after using it almost 2 year. I really like this juicer to use it in my routine life. By using this juicer I make juice of carrot,  orange, pineapole, bottle...</td>\n",
              "      <td>nice juicer i am writing a review here after using it almost 2 year i really like this juicer to use it in my routine life by using this juicer i make juice of carrot  orange pineapole bottle guar...</td>\n",
              "      <td>5</td>\n",
              "    </tr>\n",
              "    <tr>\n",
              "      <th>3</th>\n",
              "      <td>Powerful and Durable Juicer Writing after 1 month of use, Pros and cons :- Carrot and beetroot juice pic is attached.Pro's :-Juicer is super powerful.Build quality is good.Easy to use and cleanNo ...</td>\n",
              "      <td>powerful and durable juicer writing after 1 month of use pros and cons :- carrot and beetroot juice pic is attachedpro's :-juicer is super powerfulbuild quality is goodeasy to use and cleanno juic...</td>\n",
              "      <td>4</td>\n",
              "    </tr>\n",
              "    <tr>\n",
              "      <th>4</th>\n",
              "      <td>Perfect juicer ... This is your juicing solution ...it juices everything even leafy vegetables ...u can put whole fruits and the pulp is dry with absolutely no juice left ...I am loving the produc...</td>\n",
              "      <td>perfect juicer  this is your juicing solution it juices everything even leafy vegetables u can put whole fruits and the pulp is dry with absolutely no juice left i am loving the product it makes g...</td>\n",
              "      <td>5</td>\n",
              "    </tr>\n",
              "  </tbody>\n",
              "</table>\n",
              "</div>"
            ],
            "text/plain": [
              "                                                                                                                                                                                                   reviews  ... rating\n",
              "0  Phlipls cheap qualityplastic and poor juicer The juicer is of very poor quality plastic and material. See pics attached of new one and a 1 year old one.Philips in ruining their name with such qual...  ...      1\n",
              "1  Leaves too much juice in the discarded pulp It leaves too much juice in the discarded pulp and therefore a complete failure for my purpose.I returned the juicer after using it once.It is not the q...  ...      1\n",
              "2  Nice juicer I am writing a review here after using it almost 2 year. I really like this juicer to use it in my routine life. By using this juicer I make juice of carrot,  orange, pineapole, bottle...  ...      5\n",
              "3  Powerful and Durable Juicer Writing after 1 month of use, Pros and cons :- Carrot and beetroot juice pic is attached.Pro's :-Juicer is super powerful.Build quality is good.Easy to use and cleanNo ...  ...      4\n",
              "4  Perfect juicer ... This is your juicing solution ...it juices everything even leafy vegetables ...u can put whole fruits and the pulp is dry with absolutely no juice left ...I am loving the produc...  ...      5\n",
              "\n",
              "[5 rows x 3 columns]"
            ]
          },
          "metadata": {
            "tags": []
          },
          "execution_count": 121
        }
      ]
    },
    {
      "cell_type": "code",
      "metadata": {
        "id": "wQP87uqYPoSA",
        "outputId": "9e641b5a-038c-4d1f-8363-4907ce5f2a4d",
        "colab": {
          "base_uri": "https://localhost:8080/"
        }
      },
      "source": [
        "reviews.rating.value_counts()"
      ],
      "execution_count": null,
      "outputs": [
        {
          "output_type": "execute_result",
          "data": {
            "text/plain": [
              "5    919\n",
              "4    321\n",
              "1    233\n",
              "3    101\n",
              "2     53\n",
              "Name: rating, dtype: int64"
            ]
          },
          "metadata": {
            "tags": []
          },
          "execution_count": 105
        }
      ]
    },
    {
      "cell_type": "markdown",
      "metadata": {
        "id": "FWHSUW7ZSlCf"
      },
      "source": [
        "This can be divided into good and bad reviews based on rating such that good reviews = rating(4,5) and bad reviews = rating(1,2,3)"
      ]
    },
    {
      "cell_type": "code",
      "metadata": {
        "id": "_-4MzOBVSie2",
        "outputId": "cee8ae31-a076-4816-bf37-e2c32a950482",
        "colab": {
          "base_uri": "https://localhost:8080/",
          "height": 281
        }
      },
      "source": [
        "mapper = {1:'bad',2:'bad',3:'bad',4:'good',5:'good'}\n",
        "reviews['rating'] = reviews['rating'].map(mapper)\n",
        "reviews.head()"
      ],
      "execution_count": null,
      "outputs": [
        {
          "output_type": "execute_result",
          "data": {
            "text/html": [
              "<div>\n",
              "<style scoped>\n",
              "    .dataframe tbody tr th:only-of-type {\n",
              "        vertical-align: middle;\n",
              "    }\n",
              "\n",
              "    .dataframe tbody tr th {\n",
              "        vertical-align: top;\n",
              "    }\n",
              "\n",
              "    .dataframe thead th {\n",
              "        text-align: right;\n",
              "    }\n",
              "</style>\n",
              "<table border=\"1\" class=\"dataframe\">\n",
              "  <thead>\n",
              "    <tr style=\"text-align: right;\">\n",
              "      <th></th>\n",
              "      <th>reviews</th>\n",
              "      <th>review_processed</th>\n",
              "      <th>rating</th>\n",
              "    </tr>\n",
              "  </thead>\n",
              "  <tbody>\n",
              "    <tr>\n",
              "      <th>0</th>\n",
              "      <td>Phlipls cheap qualityplastic and poor juicer The juicer is of very poor quality plastic and material. See pics attached of new one and a 1 year old one.Philips in ruining their name with such qual...</td>\n",
              "      <td>phlipls cheap qualityplastic and poor juicer the juicer is of very poor quality plastic and material see pics attached of new one and a 1 year old onephilips in ruining their name with such quality</td>\n",
              "      <td>bad</td>\n",
              "    </tr>\n",
              "    <tr>\n",
              "      <th>1</th>\n",
              "      <td>Leaves too much juice in the discarded pulp It leaves too much juice in the discarded pulp and therefore a complete failure for my purpose.I returned the juicer after using it once.It is not the q...</td>\n",
              "      <td>leaves too much juice in the discarded pulp it leaves too much juice in the discarded pulp and therefore a complete failure for my purposei returned the juicer after using it onceit is not the qua...</td>\n",
              "      <td>bad</td>\n",
              "    </tr>\n",
              "    <tr>\n",
              "      <th>2</th>\n",
              "      <td>Nice juicer I am writing a review here after using it almost 2 year. I really like this juicer to use it in my routine life. By using this juicer I make juice of carrot,  orange, pineapole, bottle...</td>\n",
              "      <td>nice juicer i am writing a review here after using it almost 2 year i really like this juicer to use it in my routine life by using this juicer i make juice of carrot  orange pineapole bottle guar...</td>\n",
              "      <td>good</td>\n",
              "    </tr>\n",
              "    <tr>\n",
              "      <th>3</th>\n",
              "      <td>Powerful and Durable Juicer Writing after 1 month of use, Pros and cons :- Carrot and beetroot juice pic is attached.Pro's :-Juicer is super powerful.Build quality is good.Easy to use and cleanNo ...</td>\n",
              "      <td>powerful and durable juicer writing after 1 month of use pros and cons :- carrot and beetroot juice pic is attachedpro's :-juicer is super powerfulbuild quality is goodeasy to use and cleanno juic...</td>\n",
              "      <td>good</td>\n",
              "    </tr>\n",
              "    <tr>\n",
              "      <th>4</th>\n",
              "      <td>Perfect juicer ... This is your juicing solution ...it juices everything even leafy vegetables ...u can put whole fruits and the pulp is dry with absolutely no juice left ...I am loving the produc...</td>\n",
              "      <td>perfect juicer  this is your juicing solution it juices everything even leafy vegetables u can put whole fruits and the pulp is dry with absolutely no juice left i am loving the product it makes g...</td>\n",
              "      <td>good</td>\n",
              "    </tr>\n",
              "  </tbody>\n",
              "</table>\n",
              "</div>"
            ],
            "text/plain": [
              "                                                                                                                                                                                                   reviews  ... rating\n",
              "0  Phlipls cheap qualityplastic and poor juicer The juicer is of very poor quality plastic and material. See pics attached of new one and a 1 year old one.Philips in ruining their name with such qual...  ...    bad\n",
              "1  Leaves too much juice in the discarded pulp It leaves too much juice in the discarded pulp and therefore a complete failure for my purpose.I returned the juicer after using it once.It is not the q...  ...    bad\n",
              "2  Nice juicer I am writing a review here after using it almost 2 year. I really like this juicer to use it in my routine life. By using this juicer I make juice of carrot,  orange, pineapole, bottle...  ...   good\n",
              "3  Powerful and Durable Juicer Writing after 1 month of use, Pros and cons :- Carrot and beetroot juice pic is attached.Pro's :-Juicer is super powerful.Build quality is good.Easy to use and cleanNo ...  ...   good\n",
              "4  Perfect juicer ... This is your juicing solution ...it juices everything even leafy vegetables ...u can put whole fruits and the pulp is dry with absolutely no juice left ...I am loving the produc...  ...   good\n",
              "\n",
              "[5 rows x 3 columns]"
            ]
          },
          "metadata": {
            "tags": []
          },
          "execution_count": 122
        }
      ]
    },
    {
      "cell_type": "markdown",
      "metadata": {
        "id": "tO-vxCQSTSNF"
      },
      "source": [
        "## Good reviews"
      ]
    },
    {
      "cell_type": "code",
      "metadata": {
        "id": "GagFWCIUTJC2",
        "outputId": "3a09b96e-5782-4664-b1a1-d5092648420c",
        "colab": {
          "base_uri": "https://localhost:8080/"
        }
      },
      "source": [
        "df_good = reviews[reviews['rating'] == 'good']['review_processed']\n",
        "df_good.head()"
      ],
      "execution_count": null,
      "outputs": [
        {
          "output_type": "execute_result",
          "data": {
            "text/plain": [
              "2     nice juicer i am writing a review here after using it almost 2 year i really like this juicer to use it in my routine life by using this juicer i make juice of carrot  orange pineapole bottle guar...\n",
              "3     powerful and durable juicer writing after 1 month of use pros and cons :- carrot and beetroot juice pic is attachedpro's :-juicer is super powerfulbuild quality is goodeasy to use and cleanno juic...\n",
              "4     perfect juicer  this is your juicing solution it juices everything even leafy vegetables u can put whole fruits and the pulp is dry with absolutely no juice left i am loving the product it makes g...\n",
              "6     hr 1863 is the best juicer for the range ₹ 5000-10000 this is an outstanding juicer from philips its centrifugal technique makes it different from other juicers extracting juice from fruits like g...\n",
              "12    nice juicer i am writing a review here after using it almost 2 year i really like this juicer to use it in my routine life by using this juicer i make juice of carrot  orange pineapole bottle guar...\n",
              "Name: review_processed, dtype: object"
            ]
          },
          "metadata": {
            "tags": []
          },
          "execution_count": 123
        }
      ]
    },
    {
      "cell_type": "code",
      "metadata": {
        "id": "Ojc_TPkLTcaO",
        "outputId": "2175f07c-2bc1-47f5-acf1-190e7543de74",
        "colab": {
          "base_uri": "https://localhost:8080/"
        }
      },
      "source": [
        "good_data = df_good.tolist()\n",
        "good_data_words = list(sent_to_words(good_data))\n",
        "print(good_data_words[0][:])"
      ],
      "execution_count": null,
      "outputs": [
        {
          "output_type": "stream",
          "text": [
            "['nice', 'juicer', 'am', 'writing', 'review', 'here', 'after', 'using', 'it', 'almost', 'year', 'really', 'like', 'this', 'juicer', 'to', 'use', 'it', 'in', 'my', 'routine', 'life', 'by', 'using', 'this', 'juicer', 'make', 'juice', 'of', 'carrot', 'orange', 'pineapole', 'bottle', 'guard', 'and', 'more', 'it', 'is', 'very', 'easy', 'and', 'fast', 'the', 'only', 'one', 'thing', 'don', 'like', 'about', 'this', 'juicer', 'is', 'it', 'makes', 'too', 'much', 'noise', 'when', 'juicing', 'beetroot', 'but', 'still', 'it', 'is', 'good', 'choice', 'in', 'compare', 'to', 'others']\n"
          ],
          "name": "stdout"
        }
      ]
    },
    {
      "cell_type": "code",
      "metadata": {
        "id": "8DniYdceVJmt",
        "outputId": "1c915968-da37-4fba-c286-efc40f64b9c0",
        "colab": {
          "base_uri": "https://localhost:8080/"
        }
      },
      "source": [
        "bigram = gensim.models.Phrases(df_good, min_count=5, threshold=50)\n",
        "trigram = gensim.models.Phrases(bigram[good_data_words], threshold=50)\n",
        "bigram_mod = gensim.models.phrases.Phraser(bigram)\n",
        "trigram_mod = gensim.models.phrases.Phraser(trigram)"
      ],
      "execution_count": null,
      "outputs": [
        {
          "output_type": "stream",
          "text": [
            "/usr/local/lib/python3.6/dist-packages/gensim/models/phrases.py:598: UserWarning: For a faster implementation, use the gensim.models.phrases.Phraser class\n",
            "  warnings.warn(\"For a faster implementation, use the gensim.models.phrases.Phraser class\")\n"
          ],
          "name": "stderr"
        }
      ]
    },
    {
      "cell_type": "code",
      "metadata": {
        "id": "UURWKCgMVnW7"
      },
      "source": [
        "good_data_words_nostops = remove_stopwords(good_data_words)\n",
        "\n",
        "good_data_words_bigrams = make_bigrams(good_data_words)\n",
        "\n",
        "nlp = spacy.load(\"en_core_web_sm\", disable=['parser', 'ner'])\n",
        "\n",
        "good_data_lemmatized = lemmatization(good_data_words_bigrams, allowed_postags=['NOUN', 'ADJ', 'VERB', 'ADV'])"
      ],
      "execution_count": null,
      "outputs": []
    },
    {
      "cell_type": "code",
      "metadata": {
        "id": "DlbsasFLWEUB",
        "outputId": "b1a177fa-cda5-463e-a7e6-92ab77a3503b",
        "colab": {
          "base_uri": "https://localhost:8080/"
        }
      },
      "source": [
        "print(good_data_lemmatized[0])"
      ],
      "execution_count": null,
      "outputs": [
        {
          "output_type": "stream",
          "text": [
            "['nice', 'write', 'review', 'here', 'use', 'almost', 'year', 'really', 'juicer', 'use', 'routine', 'life', 'use', 'juicer', 'make', 'juice', 'more', 'very', 'easy', 'fast', 'only', 'thing', 'juicer', 'make', 'too', 'much', 'noise', 'when', 'juice', 'beetroot', 'still', 'good', 'choice', 'compare', 'other']\n"
          ],
          "name": "stdout"
        }
      ]
    },
    {
      "cell_type": "code",
      "metadata": {
        "id": "5eMveOw6VrZK",
        "outputId": "a6286afc-4bea-4f3d-847d-da5b80d59ec4",
        "colab": {
          "base_uri": "https://localhost:8080/"
        }
      },
      "source": [
        "id2word = corpora.Dictionary(good_data_lemmatized)\n",
        "\n",
        "texts = good_data_lemmatized\n",
        "\n",
        "corpus = [id2word.doc2bow(text) for text in texts]\n",
        "\n",
        "print(corpus[:1][0][:30])"
      ],
      "execution_count": null,
      "outputs": [
        {
          "output_type": "stream",
          "text": [
            "[(0, 1), (1, 1), (2, 1), (3, 1), (4, 1), (5, 1), (6, 1), (7, 1), (8, 2), (9, 3), (10, 1), (11, 2), (12, 1), (13, 1), (14, 1), (15, 1), (16, 1), (17, 1), (18, 1), (19, 1), (20, 1), (21, 1), (22, 1), (23, 1), (24, 3), (25, 1), (26, 1), (27, 1), (28, 1)]\n"
          ],
          "name": "stdout"
        }
      ]
    },
    {
      "cell_type": "code",
      "metadata": {
        "id": "RvxbvNwVVtu0"
      },
      "source": [
        "lda_model = gensim.models.LdaMulticore(corpus=corpus,\n",
        "                                       id2word=id2word,\n",
        "                                       num_topics=2, \n",
        "                                       random_state=14,\n",
        "                                       passes=20)"
      ],
      "execution_count": null,
      "outputs": []
    },
    {
      "cell_type": "code",
      "metadata": {
        "id": "52O-gO-4xwLH",
        "outputId": "47ebfd83-1d08-4916-c0c8-3326bbd29de7",
        "colab": {
          "base_uri": "https://localhost:8080/"
        }
      },
      "source": [
        "from pprint import pprint\n",
        "\n",
        "pprint(lda_model.print_topics())\n",
        "doc_lda = lda_model[corpus]"
      ],
      "execution_count": null,
      "outputs": [
        {
          "output_type": "stream",
          "text": [
            "[(0,\n",
            "  '0.048*\"star\" + 0.030*\"juice\" + 0.024*\"juicer\" + 0.015*\"fruit\" + '\n",
            "  '0.014*\"good\" + 0.012*\"pulp\" + 0.011*\"excellent\" + 0.010*\"can\" + '\n",
            "  '0.010*\"product\" + 0.010*\"more\"'),\n",
            " (1,\n",
            "  '0.059*\"good\" + 0.057*\"product\" + 0.036*\"juicer\" + 0.036*\"very\" + '\n",
            "  '0.035*\"easy\" + 0.031*\"juice\" + 0.027*\"use\" + 0.022*\"clean\" + 0.012*\"great\" '\n",
            "  '+ 0.011*\"buy\"')]\n"
          ],
          "name": "stdout"
        }
      ]
    },
    {
      "cell_type": "markdown",
      "metadata": {
        "id": "aicPurYmxwLO"
      },
      "source": [
        "This result captures the qualities of a good review. It can be seen that\n",
        "\n",
        "*   Topic 1 is about the juicer being able to handle fruits and pulp really well.\n",
        "*   Topic 2 is about the cleanliness,value for money and being easy to use\n"
      ]
    },
    {
      "cell_type": "code",
      "metadata": {
        "id": "HIF4S6_gxwLP",
        "outputId": "1ddfb399-c92c-44fa-aef5-1debdb28c878",
        "colab": {
          "base_uri": "https://localhost:8080/",
          "height": 861
        }
      },
      "source": [
        "pyLDAvis.enable_notebook()\n",
        "\n",
        "LDAvis_prepared = pyLDAvis.gensim.prepare(lda_model, corpus, id2word)\n",
        "\n",
        "LDAvis_prepared"
      ],
      "execution_count": null,
      "outputs": [
        {
          "output_type": "execute_result",
          "data": {
            "text/html": [
              "\n",
              "<link rel=\"stylesheet\" type=\"text/css\" href=\"https://cdn.rawgit.com/bmabey/pyLDAvis/files/ldavis.v1.0.0.css\">\n",
              "\n",
              "\n",
              "<div id=\"ldavis_el1041405081307717365893060827\"></div>\n",
              "<script type=\"text/javascript\">\n",
              "\n",
              "var ldavis_el1041405081307717365893060827_data = {\"mdsDat\": {\"x\": [0.07848036289215087, -0.07848036289215087], \"y\": [0.0, 0.0], \"topics\": [1, 2], \"cluster\": [1, 1], \"Freq\": [65.99520170927752, 34.00479829072248]}, \"tinfo\": {\"Term\": [\"star\", \"easy\", \"pulp\", \"product\", \"very\", \"good\", \"more\", \"love\", \"fruit\", \"perfect\", \"can\", \"will\", \"juice\", \"great\", \"need\", \"dry\", \"come\", \"useful\", \"excellent\", \"amazing\", \"water\", \"clean\", \"must\", \"remove\", \"keep\", \"squeeze\", \"feed\", \"totally\", \"vegetable\", \"claim\", \"useful\", \"bit\", \"life\", \"amazing\", \"year\", \"ever\", \"wonderful\", \"must\", \"easy\", \"lover\", \"user\", \"sturdy\", \"kind\", \"packing\", \"handy\", \"great\", \"type\", \"result\", \"item\", \"buying\", \"assemble\", \"minimum\", \"investment\", \"fast\", \"friendly\", \"pretty\", \"durable\", \"smooth\", \"highly\", \"here\", \"very\", \"product\", \"happy\", \"good\", \"clean\", \"seed\", \"use\", \"super\", \"quick\", \"quality\", \"design\", \"price\", \"work\", \"juicer\", \"well\", \"buy\", \"beetroot\", \"really\", \"juice\", \"time\", \"make\", \"worth\", \"recommend\", \"so\", \"excellent\", \"nice\", \"fruit\", \"extract\", \"vegetable\", \"just\", \"can\", \"star\", \"feed\", \"keep\", \"point\", \"kid\", \"vege\", \"eat\", \"wire\", \"comment\", \"pulp\", \"dry\", \"wet\", \"sound\", \"parent\", \"atleast\", \"seeve\", \"read\", \"scrub\", \"length\", \"else\", \"claim\", \"leafy\", \"left\", \"habit\", \"coriander\", \"fibre\", \"suck\", \"blow\", \"chute\", \"cable\", \"raw\", \"come\", \"perfect\", \"squeeze\", \"totally\", \"water\", \"once\", \"love\", \"such\", \"more\", \"will\", \"slow\", \"fruit\", \"can\", \"need\", \"remove\", \"drop\", \"juice\", \"hard\", \"excellent\", \"small\", \"juicer\", \"value\", \"nice\", \"vegetable\", \"awesome\", \"quite\", \"when\", \"make\", \"give\", \"good\", \"just\", \"so\", \"money\", \"use\", \"only\", \"product\", \"get\", \"buy\", \"extract\", \"very\", \"clean\", \"go\"], \"Freq\": [284.0, 400.0, 73.0, 694.0, 431.0, 738.0, 88.0, 78.0, 180.0, 41.0, 115.0, 59.0, 522.0, 145.0, 62.0, 22.0, 24.0, 50.0, 167.0, 64.0, 22.0, 272.0, 58.0, 27.0, 12.0, 14.0, 11.0, 14.0, 96.0, 12.0, 50.218083398870874, 33.06405660576305, 17.350336327065968, 62.37102761862638, 17.267368722936485, 21.560985326761347, 13.779787557564722, 56.71311418342293, 385.9215900089591, 11.108646961674252, 10.224254886360105, 12.766879349008162, 11.042708056225848, 12.699419005793278, 9.308046748110659, 138.70687373177245, 8.437699461377653, 10.125028374037866, 11.812060515617564, 9.26796450903097, 49.69817156845457, 9.25572302594562, 11.77263013616014, 55.31885513640458, 10.891529757546904, 7.538932131868691, 10.050498658577524, 9.21220653637089, 15.063803275861453, 7.516180546324929, 397.1450834909619, 634.600515184002, 49.67404109893845, 657.2152905555903, 242.71725293152468, 25.65610613980349, 300.4338317826146, 23.93758904887396, 46.70685903877022, 72.65799451091313, 17.420341903477933, 48.25054556468684, 74.68545159260236, 403.8003447401204, 59.297179034025696, 118.39467908077737, 26.329996802981682, 71.17877858636534, 348.4795197694696, 68.21485712025202, 109.34335292471981, 61.08665421990073, 41.57776056639853, 76.6151841605821, 101.60297219461447, 85.10927012725762, 94.48252940443838, 54.191399770487145, 57.28641888946028, 53.08542078162776, 55.06932379137836, 274.83355409582475, 10.979179932864556, 11.600279641501544, 7.428414963284311, 6.585050639484764, 5.721498895763105, 5.714095550808208, 6.528515580351871, 5.709866689655564, 67.56557435514502, 20.34801514790279, 5.685903143123914, 6.495155454925542, 5.668735288989305, 5.664939797627924, 4.840577637387637, 6.44644976528811, 4.829381805946644, 4.819389260120221, 6.402519824105393, 11.201324353015671, 4.791411867956399, 4.787908517247833, 4.754152416033802, 3.9607815378692983, 6.335195927195259, 3.9593789288607515, 3.958770608552831, 5.536686712291517, 3.9492551701468344, 6.303668107943389, 21.45614103641117, 35.64684086105531, 12.363172069639091, 12.232517421199024, 18.642230248989286, 7.58298508025145, 52.25623424949138, 10.226775187225575, 57.446174713643025, 39.37098980564403, 10.618304427254389, 86.16192216176567, 59.99067639591357, 36.437470291333796, 18.392716089232206, 14.016609370068403, 173.91984176349163, 14.130960232956133, 65.91361411785634, 17.126090374632522, 140.33777224203013, 18.983342355967714, 49.65043311138431, 39.309252305765796, 32.88863511943729, 16.11450779031635, 16.10637993654247, 40.65007573643009, 22.7881488307361, 81.64195403340435, 27.616542700463683, 31.63858830341614, 21.58987267714421, 47.11463888994284, 23.65773302853213, 59.98714533357736, 21.924344677490414, 28.176699531798093, 23.881490732836856, 34.22672878784168, 30.241219797367993, 22.079623277275008], \"Total\": [284.0, 400.0, 73.0, 694.0, 431.0, 738.0, 88.0, 78.0, 180.0, 41.0, 115.0, 59.0, 522.0, 145.0, 62.0, 22.0, 24.0, 50.0, 167.0, 64.0, 22.0, 272.0, 58.0, 27.0, 12.0, 14.0, 11.0, 14.0, 96.0, 12.0, 50.73629263028944, 33.81962682057843, 17.799236231963484, 64.07624543079838, 17.79832117136525, 22.247650078641, 14.238282070985148, 58.73149842853756, 400.4336846167043, 11.567642454579877, 10.677496043092841, 13.346720742732431, 11.566918107059522, 13.345978730588774, 9.786997659525682, 145.91451249478592, 8.897003872156441, 10.676404041629944, 12.455798579050649, 9.786557529798575, 52.49140096784481, 9.786421979756499, 12.455365095446876, 58.71616079124845, 11.565253513194403, 8.00669902267197, 10.675582581437611, 9.78594264952948, 16.013244371510925, 8.006448694489379, 431.3718122788036, 694.5876605175794, 53.371548819240566, 738.8572445889946, 272.9584727288927, 27.575207135277534, 347.54847067255747, 25.79546287245586, 51.578072715199816, 81.79776607964143, 18.68041982789168, 54.23629920286052, 86.22215742155083, 544.1381169821506, 69.32492129855068, 146.57137861257547, 29.343450006402673, 87.9443947731759, 522.3993615329613, 85.27053325068016, 149.9934286611499, 78.14875544144063, 49.760795202282715, 108.25377246399825, 167.5165863124708, 134.75970323864192, 180.64445156620405, 78.072890503324, 96.59567119522607, 80.70196348209144, 115.06000018729193, 284.4803319857819, 11.45058811831448, 12.333889247904889, 7.929249370207708, 7.04842211180097, 6.167819192876713, 6.167901056064479, 7.0490510431192765, 6.167948484749954, 73.13577638473328, 22.028881837886196, 6.1682145474185175, 7.049422952219291, 6.168406465052217, 6.168448465131387, 5.287409710721833, 7.049964536175482, 5.28753422996631, 5.28764522479736, 7.050453304290711, 12.338327097302276, 5.287956823114661, 5.287995326716766, 5.288371139620919, 4.406986860488149, 7.051201678956078, 4.407002904720656, 4.4070093881481744, 6.169875513364381, 4.407115399386763, 7.051553018892707, 24.68718628169041, 41.443307512551776, 14.105823193929588, 14.10727606238642, 22.93807425584749, 8.817741010999333, 78.64738403826931, 12.34917082790669, 88.3819653782797, 59.206103561642124, 13.23502608419195, 180.64445156620405, 115.06000018729193, 62.799590943851754, 27.391907730887844, 19.42869461903415, 522.3993615329613, 20.317634201360846, 167.5165863124708, 27.40600085410965, 544.1381169821506, 32.726607631475346, 134.75970323864192, 96.59567119522607, 77.08246256727806, 26.5270431921659, 26.52713421259563, 149.9934286611499, 51.37870927146186, 738.8572445889946, 80.70196348209144, 108.25377246399825, 49.61162274417859, 347.54847067255747, 66.50262835211478, 694.5876605175794, 56.72959220311178, 146.57137861257547, 78.072890503324, 431.3718122788036, 272.9584727288927, 64.73977406743452], \"Category\": [\"Default\", \"Default\", \"Default\", \"Default\", \"Default\", \"Default\", \"Default\", \"Default\", \"Default\", \"Default\", \"Default\", \"Default\", \"Default\", \"Default\", \"Default\", \"Default\", \"Default\", \"Default\", \"Default\", \"Default\", \"Default\", \"Default\", \"Default\", \"Default\", \"Default\", \"Default\", \"Default\", \"Default\", \"Default\", \"Default\", \"Topic1\", \"Topic1\", \"Topic1\", \"Topic1\", \"Topic1\", \"Topic1\", \"Topic1\", \"Topic1\", \"Topic1\", \"Topic1\", \"Topic1\", \"Topic1\", \"Topic1\", \"Topic1\", \"Topic1\", \"Topic1\", \"Topic1\", \"Topic1\", \"Topic1\", \"Topic1\", \"Topic1\", \"Topic1\", \"Topic1\", \"Topic1\", \"Topic1\", \"Topic1\", \"Topic1\", \"Topic1\", \"Topic1\", \"Topic1\", \"Topic1\", \"Topic1\", \"Topic1\", \"Topic1\", \"Topic1\", \"Topic1\", \"Topic1\", \"Topic1\", \"Topic1\", \"Topic1\", \"Topic1\", \"Topic1\", \"Topic1\", \"Topic1\", \"Topic1\", \"Topic1\", \"Topic1\", \"Topic1\", \"Topic1\", \"Topic1\", \"Topic1\", \"Topic1\", \"Topic1\", \"Topic1\", \"Topic1\", \"Topic1\", \"Topic1\", \"Topic1\", \"Topic1\", \"Topic1\", \"Topic1\", \"Topic2\", \"Topic2\", \"Topic2\", \"Topic2\", \"Topic2\", \"Topic2\", \"Topic2\", \"Topic2\", \"Topic2\", \"Topic2\", \"Topic2\", \"Topic2\", \"Topic2\", \"Topic2\", \"Topic2\", \"Topic2\", \"Topic2\", \"Topic2\", \"Topic2\", \"Topic2\", \"Topic2\", \"Topic2\", \"Topic2\", \"Topic2\", \"Topic2\", \"Topic2\", \"Topic2\", \"Topic2\", \"Topic2\", \"Topic2\", \"Topic2\", \"Topic2\", \"Topic2\", \"Topic2\", \"Topic2\", \"Topic2\", \"Topic2\", \"Topic2\", \"Topic2\", \"Topic2\", \"Topic2\", \"Topic2\", \"Topic2\", \"Topic2\", \"Topic2\", \"Topic2\", \"Topic2\", \"Topic2\", \"Topic2\", \"Topic2\", \"Topic2\", \"Topic2\", \"Topic2\", \"Topic2\", \"Topic2\", \"Topic2\", \"Topic2\", \"Topic2\", \"Topic2\", \"Topic2\", \"Topic2\", \"Topic2\", \"Topic2\", \"Topic2\", \"Topic2\", \"Topic2\", \"Topic2\", \"Topic2\", \"Topic2\", \"Topic2\", \"Topic2\", \"Topic2\", \"Topic2\"], \"logprob\": [30.0, 29.0, 28.0, 27.0, 26.0, 25.0, 24.0, 23.0, 22.0, 21.0, 20.0, 19.0, 18.0, 17.0, 16.0, 15.0, 14.0, 13.0, 12.0, 11.0, 10.0, 9.0, 8.0, 7.0, 6.0, 5.0, 4.0, 3.0, 2.0, 1.0, -5.401199817657471, -5.8190999031066895, -6.464000225067139, -5.184500217437744, -6.468800067901611, -6.246699810028076, -6.694399833679199, -5.279600143432617, -3.361999988555908, -6.909900188446045, -6.992800235748291, -6.770699977874756, -6.915800094604492, -6.776000022888184, -7.086699962615967, -4.385200023651123, -7.184899806976318, -7.002600193023682, -6.848499774932861, -7.091000080108643, -5.411600112915039, -7.092299938201904, -6.851799964904785, -5.304500102996826, -6.929599761962891, -7.297500133514404, -7.010000228881836, -7.097099781036377, -6.605299949645996, -7.30049991607666, -3.3333001136779785, -2.8645999431610107, -5.412099838256836, -2.8296000957489014, -3.825700044631958, -6.072800159454346, -3.6124000549316406, -6.142099857330322, -5.473700046539307, -5.031799793243408, -6.45989990234375, -5.441199779510498, -5.004300117492676, -3.316699981689453, -5.235000133514404, -4.543600082397461, -6.046899795532227, -5.0524001121521, -3.4639999866485596, -5.094900131225586, -4.6230998039245605, -5.2052998542785645, -5.590000152587891, -4.978799819946289, -4.696499824523926, -4.873600006103516, -4.769199848175049, -5.325099945068359, -5.269499778747559, -5.345699787139893, -5.309000015258789, -3.038300037384033, -6.258500099182129, -6.203499794006348, -6.649199962615967, -6.769700050354004, -6.910299777984619, -6.911600112915039, -6.778299808502197, -6.912300109863281, -4.441400051116943, -5.641499996185303, -6.916500091552734, -6.783400058746338, -6.91949987411499, -6.920199871063232, -7.077499866485596, -6.790999889373779, -7.079800128936768, -7.081900119781494, -6.797800064086914, -6.238500118255615, -7.087699890136719, -7.088399887084961, -7.0954999923706055, -7.27810001373291, -6.8084001541137695, -7.27839994430542, -7.278600215911865, -6.9430999755859375, -7.281000137329102, -6.813399791717529, -5.588500022888184, -5.0808000564575195, -6.139800071716309, -6.150400161743164, -5.729100227355957, -6.628600120544434, -4.698299884796143, -6.329500198364258, -4.603700160980225, -4.981500148773193, -6.291900157928467, -4.198299884796143, -4.560299873352051, -5.058899879455566, -5.742599964141846, -6.0142998695373535, -3.4958999156951904, -6.006100177764893, -4.46619987487793, -5.813899993896484, -3.7105000019073486, -5.710899829864502, -4.749499797821045, -4.982999801635742, -5.161399841308594, -5.874800205230713, -5.87529993057251, -4.94950008392334, -5.528299808502197, -4.252200126647949, -5.336100101470947, -5.200099945068359, -5.582300186157227, -4.8018999099731445, -5.490799903869629, -4.560400009155273, -5.56689977645874, -5.315999984741211, -5.481400012969971, -5.121500015258789, -5.245299816131592, -5.559800148010254], \"loglift\": [30.0, 29.0, 28.0, 27.0, 26.0, 25.0, 24.0, 23.0, 22.0, 21.0, 20.0, 19.0, 18.0, 17.0, 16.0, 15.0, 14.0, 13.0, 12.0, 11.0, 10.0, 9.0, 8.0, 7.0, 6.0, 5.0, 4.0, 3.0, 2.0, 1.0, 0.4053, 0.393, 0.39, 0.3886, 0.3853, 0.3842, 0.3829, 0.3806, 0.3787, 0.3751, 0.3722, 0.3712, 0.3692, 0.3659, 0.3654, 0.3649, 0.3626, 0.3626, 0.3625, 0.3611, 0.3609, 0.3598, 0.3592, 0.356, 0.3556, 0.3554, 0.3553, 0.3552, 0.3545, 0.3524, 0.3329, 0.3253, 0.3438, 0.2985, 0.2982, 0.3435, 0.2699, 0.3408, 0.3164, 0.2971, 0.3458, 0.2986, 0.2719, 0.1173, 0.2593, 0.2021, 0.3072, 0.2041, 0.0107, 0.1924, 0.0995, 0.1693, 0.2359, 0.0699, -0.0844, -0.044, -0.2325, 0.0505, -0.1069, -0.0033, -0.3213, 1.0442, 1.0366, 1.0173, 1.0134, 1.0107, 1.0036, 1.0022, 1.002, 1.0015, 0.9994, 0.9993, 0.9972, 0.9968, 0.9942, 0.9935, 0.9904, 0.9892, 0.988, 0.9859, 0.9823, 0.982, 0.9801, 0.9793, 0.9722, 0.9719, 0.9716, 0.9716, 0.9714, 0.9704, 0.969, 0.9666, 0.9384, 0.928, 0.9468, 0.9361, 0.8713, 0.9278, 0.6699, 0.8901, 0.6478, 0.6707, 0.8584, 0.3384, 0.4274, 0.5343, 0.6804, 0.7522, -0.0212, 0.7155, 0.1459, 0.6085, -0.2765, 0.534, 0.0802, 0.1796, 0.2269, 0.5802, 0.5797, -0.2269, 0.2657, -1.1241, 0.0063, -0.1514, 0.2467, -0.9197, 0.0451, -1.3705, 0.128, -0.5703, -0.1059, -1.4553, -1.1214, 0.0029]}, \"token.table\": {\"Topic\": [1, 2, 1, 2, 1, 2, 1, 2, 1, 2, 1, 2, 2, 1, 2, 1, 2, 2, 1, 2, 1, 2, 1, 2, 1, 2, 1, 2, 2, 2, 1, 2, 1, 2, 1, 2, 1, 2, 1, 2, 2, 1, 2, 1, 2, 1, 2, 1, 2, 1, 2, 2, 1, 2, 1, 2, 1, 2, 1, 2, 1, 2, 1, 2, 1, 2, 1, 2, 1, 2, 1, 1, 2, 1, 2, 1, 1, 2, 1, 2, 1, 2, 1, 2, 1, 2, 1, 2, 1, 2, 2, 1, 2, 2, 1, 2, 2, 1, 1, 2, 1, 1, 2, 1, 2, 1, 2, 1, 2, 1, 2, 1, 2, 1, 2, 1, 2, 1, 2, 1, 2, 2, 1, 2, 1, 2, 1, 1, 2, 1, 2, 1, 2, 1, 2, 1, 2, 1, 2, 1, 2, 1, 2, 1, 2, 1, 2, 1, 2, 1, 2, 2, 1, 2, 2, 1, 2, 1, 2, 1, 2, 1, 2, 1, 2, 1, 2, 1, 2, 1, 2, 1, 2, 2, 1, 2, 1, 2, 1, 2, 1, 1, 2, 1, 2, 1, 1, 2, 2, 1, 2, 1, 2, 1, 2, 1, 2, 2, 1, 2, 1, 2, 1, 2, 1, 1, 2, 1, 2, 1, 2], \"Freq\": [0.9675972676482628, 0.031212815085427833, 0.952536969448177, 0.05715221816689062, 0.1621153205141838, 0.9726919230851028, 0.570817259004881, 0.4281129442536607, 0.8860580468324911, 0.1022374669422105, 0.9757647585845121, 0.029568629048015518, 0.9076449918071993, 0.8050685005283554, 0.19103320351520298, 0.9196287839310577, 0.10218097599233975, 0.9076231588028278, 0.4780114714972389, 0.5214670598151697, 0.16207782439595908, 0.9724669463757545, 0.08104826465644972, 0.891530911220947, 0.8902453093711146, 0.10990682831742156, 0.12152053157329604, 0.8506437210130723, 0.9727707705138587, 0.9076496315119332, 0.9100437868434493, 0.053531987461379375, 0.2573513093927338, 0.7205836662996546, 0.09078990094541775, 0.9078990094541776, 0.9367170291378483, 0.09367170291378482, 0.963954869005288, 0.03745938610124176, 0.9727782507309528, 0.14183485186568467, 0.851009111194108, 0.9888684837380304, 0.04494856744263775, 0.6088949294235146, 0.3939908366858036, 0.6916613391904699, 0.3074050396402088, 0.9367097449633945, 0.05109325881618516, 0.9606493471201017, 0.1418197983167103, 0.8509187899002618, 0.9511248488803532, 0.08646589535275938, 0.5203591872598983, 0.47607329898246015, 0.6169619530259932, 0.38780465618776716, 0.5644361333948099, 0.44765624372691815, 0.6641975604550326, 0.3398220076746679, 0.8892110144571574, 0.11098219662935603, 0.952612578580674, 0.047973295324206605, 0.1890941413903265, 0.9454707069516324, 0.9195874274313638, 0.9368287244078419, 0.07494629795262735, 0.29530997263441866, 0.6890566028136436, 0.9991945624414209, 0.9367246044584455, 0.06244830696389637, 0.9634402450705088, 0.08028668708920907, 0.9634067156627553, 0.08028389297189628, 0.6661570163079968, 0.3330785081539984, 0.742458554898944, 0.2572876180342875, 0.6567374288453492, 0.3469556227862222, 0.08107742658463277, 0.9729291190155931, 0.9931300777630928, 0.9509879726118645, 0.08645345205562405, 0.9455447854914497, 0.18910758013488724, 0.9455379006744361, 0.945600505977898, 0.9550971613867211, 0.33058950806740844, 0.6611790161348169, 0.9509284232453835, 0.7266985025473474, 0.2733453082976261, 0.9196415215506509, 0.10218239128340566, 0.5643838772293638, 0.44344447496592865, 0.35075029014480824, 0.6449279528469054, 0.9705184019671422, 0.03405327726200499, 0.41401543559807963, 0.5732521415973411, 0.6307523536874822, 0.3710307962867542, 0.11340773093160603, 0.9072618474528482, 0.6465909854318201, 0.3608879918689229, 0.9740761814796096, 0.07492893703689305, 0.9726985460497225, 0.1447760895575915, 0.8686565373455489, 0.12611534248844097, 0.8828073974190869, 0.9991633227809611, 0.8850161368950555, 0.11062701711188194, 0.9142114611233131, 0.08638218530299022, 0.08203919198774609, 0.9297775091944557, 0.8924449101571357, 0.11002745467690714, 0.9112399422041475, 0.09694041938341995, 0.3769737896364285, 0.6031580634182856, 0.14181273221952292, 0.8508763933171376, 0.1418446851567409, 0.8510681109404453, 0.8073283144778188, 0.19330396262144958, 0.844037958582971, 0.16076913496818496, 0.3285641908705526, 0.6571283817411052, 0.9366449565797176, 0.09366449565797176, 0.9456203558292346, 0.9428759636310279, 0.07252892027930984, 0.9456426253219943, 0.2266712570807269, 0.831127942629332, 0.36488359075930105, 0.6203021042908118, 0.9196865669790872, 0.10218739633100969, 0.711291609034759, 0.29560170765080895, 0.1418555826168979, 0.8511334957013875, 0.14178541532129058, 0.8507124919277433, 0.0351518149961235, 0.9666749123933962, 0.9740220276264319, 0.07492477135587938, 0.16195419335202607, 0.8097709667601304, 0.9076463271025562, 0.9303961754307949, 0.07753301461923291, 0.7974618828768448, 0.1993654707192112, 0.14177081324243082, 0.8506248794545849, 0.8991791073662839, 0.8631889515135999, 0.13523293573713066, 0.9854878511590365, 0.01970975702318073, 0.9365491646769464, 0.4277864714134096, 0.5805673540610559, 0.9727911620576476, 0.5900885546392584, 0.4037448005426505, 0.920319753631495, 0.07881831643191645, 0.1743825551955522, 0.828317137178873, 0.8510647959615277, 0.14424827050195385, 0.9727288105617342, 0.3769724961564749, 0.6031559938503598, 0.33780301010988006, 0.6587158697142661, 0.14186306694092116, 0.993041468586448, 0.9832646895322631, 0.8698460145611492, 0.13917536232978386, 0.7805626545864733, 0.217533854556886, 0.9551462655562355, 0.05618507444448444], \"Term\": [\"amazing\", \"amazing\", \"assemble\", \"assemble\", \"atleast\", \"atleast\", \"awesome\", \"awesome\", \"beetroot\", \"beetroot\", \"bit\", \"bit\", \"blow\", \"buy\", \"buy\", \"buying\", \"buying\", \"cable\", \"can\", \"can\", \"chute\", \"chute\", \"claim\", \"claim\", \"clean\", \"clean\", \"come\", \"come\", \"comment\", \"coriander\", \"design\", \"design\", \"drop\", \"drop\", \"dry\", \"dry\", \"durable\", \"durable\", \"easy\", \"easy\", \"eat\", \"else\", \"else\", \"ever\", \"ever\", \"excellent\", \"excellent\", \"extract\", \"extract\", \"fast\", \"fast\", \"feed\", \"fibre\", \"fibre\", \"friendly\", \"friendly\", \"fruit\", \"fruit\", \"get\", \"get\", \"give\", \"give\", \"go\", \"go\", \"good\", \"good\", \"great\", \"great\", \"habit\", \"habit\", \"handy\", \"happy\", \"happy\", \"hard\", \"hard\", \"here\", \"highly\", \"highly\", \"investment\", \"investment\", \"item\", \"item\", \"juice\", \"juice\", \"juicer\", \"juicer\", \"just\", \"just\", \"keep\", \"keep\", \"kid\", \"kind\", \"kind\", \"leafy\", \"left\", \"left\", \"length\", \"life\", \"love\", \"love\", \"lover\", \"make\", \"make\", \"minimum\", \"minimum\", \"money\", \"money\", \"more\", \"more\", \"must\", \"must\", \"need\", \"need\", \"nice\", \"nice\", \"once\", \"once\", \"only\", \"only\", \"packing\", \"packing\", \"parent\", \"perfect\", \"perfect\", \"point\", \"point\", \"pretty\", \"price\", \"price\", \"product\", \"product\", \"pulp\", \"pulp\", \"quality\", \"quality\", \"quick\", \"quick\", \"quite\", \"quite\", \"raw\", \"raw\", \"read\", \"read\", \"really\", \"really\", \"recommend\", \"recommend\", \"remove\", \"remove\", \"result\", \"result\", \"scrub\", \"seed\", \"seed\", \"seeve\", \"slow\", \"slow\", \"small\", \"small\", \"smooth\", \"smooth\", \"so\", \"so\", \"sound\", \"sound\", \"squeeze\", \"squeeze\", \"star\", \"star\", \"sturdy\", \"sturdy\", \"such\", \"such\", \"suck\", \"super\", \"super\", \"time\", \"time\", \"totally\", \"totally\", \"type\", \"use\", \"use\", \"useful\", \"useful\", \"user\", \"value\", \"value\", \"vege\", \"vegetable\", \"vegetable\", \"very\", \"very\", \"water\", \"water\", \"well\", \"well\", \"wet\", \"when\", \"when\", \"will\", \"will\", \"wire\", \"wire\", \"wonderful\", \"work\", \"work\", \"worth\", \"worth\", \"year\", \"year\"]}, \"R\": 30, \"lambda.step\": 0.01, \"plot.opts\": {\"xlab\": \"PC1\", \"ylab\": \"PC2\"}, \"topic.order\": [2, 1]};\n",
              "\n",
              "function LDAvis_load_lib(url, callback){\n",
              "  var s = document.createElement('script');\n",
              "  s.src = url;\n",
              "  s.async = true;\n",
              "  s.onreadystatechange = s.onload = callback;\n",
              "  s.onerror = function(){console.warn(\"failed to load library \" + url);};\n",
              "  document.getElementsByTagName(\"head\")[0].appendChild(s);\n",
              "}\n",
              "\n",
              "if(typeof(LDAvis) !== \"undefined\"){\n",
              "   // already loaded: just create the visualization\n",
              "   !function(LDAvis){\n",
              "       new LDAvis(\"#\" + \"ldavis_el1041405081307717365893060827\", ldavis_el1041405081307717365893060827_data);\n",
              "   }(LDAvis);\n",
              "}else if(typeof define === \"function\" && define.amd){\n",
              "   // require.js is available: use it to load d3/LDAvis\n",
              "   require.config({paths: {d3: \"https://cdnjs.cloudflare.com/ajax/libs/d3/3.5.5/d3.min\"}});\n",
              "   require([\"d3\"], function(d3){\n",
              "      window.d3 = d3;\n",
              "      LDAvis_load_lib(\"https://cdn.rawgit.com/bmabey/pyLDAvis/files/ldavis.v1.0.0.js\", function(){\n",
              "        new LDAvis(\"#\" + \"ldavis_el1041405081307717365893060827\", ldavis_el1041405081307717365893060827_data);\n",
              "      });\n",
              "    });\n",
              "}else{\n",
              "    // require.js not available: dynamically load d3 & LDAvis\n",
              "    LDAvis_load_lib(\"https://cdnjs.cloudflare.com/ajax/libs/d3/3.5.5/d3.min.js\", function(){\n",
              "         LDAvis_load_lib(\"https://cdn.rawgit.com/bmabey/pyLDAvis/files/ldavis.v1.0.0.js\", function(){\n",
              "                 new LDAvis(\"#\" + \"ldavis_el1041405081307717365893060827\", ldavis_el1041405081307717365893060827_data);\n",
              "            })\n",
              "         });\n",
              "}\n",
              "</script>"
            ],
            "text/plain": [
              "PreparedData(topic_coordinates=             x    y  topics  cluster       Freq\n",
              "topic                                          \n",
              "1      0.07848  0.0       1        1  65.995202\n",
              "0     -0.07848  0.0       2        1  34.004798, topic_info=        Term        Freq       Total Category  logprob  loglift\n",
              "636     star  284.000000  284.000000  Default  30.0000  30.0000\n",
              "4       easy  400.000000  400.000000  Default  29.0000  29.0000\n",
              "79      pulp   73.000000   73.000000  Default  28.0000  28.0000\n",
              "57   product  694.000000  694.000000  Default  27.0000  27.0000\n",
              "25      very  431.000000  431.000000  Default  26.0000  26.0000\n",
              "..       ...         ...         ...      ...      ...      ...\n",
              "128      buy   28.176700  146.571379   Topic2  -5.3160  -0.5703\n",
              "40   extract   23.881491   78.072891   Topic2  -5.4814  -0.1059\n",
              "25      very   34.226729  431.371812   Topic2  -5.1215  -1.4553\n",
              "71     clean   30.241220  272.958473   Topic2  -5.2453  -1.1214\n",
              "334       go   22.079623   64.739774   Topic2  -5.5598   0.0029\n",
              "\n",
              "[164 rows x 6 columns], token_table=      Topic      Freq      Term\n",
              "term                           \n",
              "266       1  0.967597   amazing\n",
              "266       2  0.031213   amazing\n",
              "164       1  0.952537  assemble\n",
              "164       2  0.057152  assemble\n",
              "1120      1  0.162115   atleast\n",
              "...     ...       ...       ...\n",
              "376       2  0.139175      work\n",
              "162       1  0.780563     worth\n",
              "162       2  0.217534     worth\n",
              "28        1  0.955146      year\n",
              "28        2  0.056185      year\n",
              "\n",
              "[211 rows x 3 columns], R=30, lambda_step=0.01, plot_opts={'xlab': 'PC1', 'ylab': 'PC2'}, topic_order=[2, 1])"
            ]
          },
          "metadata": {
            "tags": []
          },
          "execution_count": 39
        }
      ]
    },
    {
      "cell_type": "markdown",
      "metadata": {
        "id": "0ymOkwT6XbKp"
      },
      "source": [
        "## Bad reviews"
      ]
    },
    {
      "cell_type": "code",
      "metadata": {
        "id": "gq8FLI9EXf4L",
        "outputId": "dc98b12b-ea94-44b8-b163-9280f01557e1",
        "colab": {
          "base_uri": "https://localhost:8080/"
        }
      },
      "source": [
        "df_bad = reviews[reviews['rating'] == 'bad']['review_processed']\n",
        "df_bad.head()"
      ],
      "execution_count": null,
      "outputs": [
        {
          "output_type": "execute_result",
          "data": {
            "text/plain": [
              "0      phlipls cheap qualityplastic and poor juicer the juicer is of very poor quality plastic and material see pics attached of new one and a 1 year old onephilips in ruining their name with such quality\n",
              "1    leaves too much juice in the discarded pulp it leaves too much juice in the discarded pulp and therefore a complete failure for my purposei returned the juicer after using it onceit is not the qua...\n",
              "5    my machine's lower part got stuck after only 10 uses  my machine's lower part got stuck after only 10 uses  it is not coming out there is no response from the customer service department have call...\n",
              "7    very disappointing we purchased in a hope it'd be better than others first two days it worked amazingbut on third day its lower part got stuck n glued on its own we had to call the technician to g...\n",
              "8    the motor is heating very fast we have been using the juicer for hardly 2 minutes to take out kakadi (vegetable) juice for daily consumption but on 3 ocassions due to motor heating the sides were ...\n",
              "Name: review_processed, dtype: object"
            ]
          },
          "metadata": {
            "tags": []
          },
          "execution_count": 136
        }
      ]
    },
    {
      "cell_type": "code",
      "metadata": {
        "id": "l9MNtmdTXf4R",
        "outputId": "c2f3c268-7adf-49b1-fea3-e9d23d30e5df",
        "colab": {
          "base_uri": "https://localhost:8080/"
        }
      },
      "source": [
        "def sent_to_words(sentences):\n",
        "    for sentence in sentences:\n",
        "        yield(gensim.utils.simple_preprocess(str(sentence),deacc=True))\n",
        "\n",
        "bad_data = df_bad.tolist()\n",
        "bad_data_words = list(sent_to_words(bad_data))\n",
        "print(bad_data_words[0][:])"
      ],
      "execution_count": null,
      "outputs": [
        {
          "output_type": "stream",
          "text": [
            "['phlipls', 'cheap', 'qualityplastic', 'and', 'poor', 'juicer', 'the', 'juicer', 'is', 'of', 'very', 'poor', 'quality', 'plastic', 'and', 'material', 'see', 'pics', 'attached', 'of', 'new', 'one', 'and', 'year', 'old', 'onephilips', 'in', 'ruining', 'their', 'name', 'with', 'such', 'quality']\n"
          ],
          "name": "stdout"
        }
      ]
    },
    {
      "cell_type": "code",
      "metadata": {
        "id": "JFGM4MimXf4U",
        "outputId": "a795edba-6556-4338-da0d-f22b30660fd5",
        "colab": {
          "base_uri": "https://localhost:8080/"
        }
      },
      "source": [
        "bigram = gensim.models.Phrases(df_bad, min_count=5, threshold=50)\n",
        "trigram = gensim.models.Phrases(bigram[bad_data_words], threshold=50)\n",
        "bigram_mod = gensim.models.phrases.Phraser(bigram)\n",
        "trigram_mod = gensim.models.phrases.Phraser(trigram)"
      ],
      "execution_count": null,
      "outputs": [
        {
          "output_type": "stream",
          "text": [
            "/usr/local/lib/python3.6/dist-packages/gensim/models/phrases.py:598: UserWarning: For a faster implementation, use the gensim.models.phrases.Phraser class\n",
            "  warnings.warn(\"For a faster implementation, use the gensim.models.phrases.Phraser class\")\n"
          ],
          "name": "stderr"
        }
      ]
    },
    {
      "cell_type": "code",
      "metadata": {
        "id": "KJtLhP6rXf4Y"
      },
      "source": [
        "bad_data_words_nostops = remove_stopwords(bad_data_words)\n",
        "\n",
        "bad_data_words_bigrams = make_bigrams(bad_data_words)\n",
        "\n",
        "nlp = spacy.load(\"en_core_web_sm\", disable=['parser', 'ner'])\n",
        "\n",
        "bad_data_lemmatized = lemmatization(bad_data_words_bigrams, allowed_postags=['NOUN', 'ADJ', 'VERB', 'ADV'])"
      ],
      "execution_count": null,
      "outputs": []
    },
    {
      "cell_type": "code",
      "metadata": {
        "id": "eDwTstv_Xf4b",
        "outputId": "0ecac4e8-8fc5-44cf-bedb-e60b5c85596d",
        "colab": {
          "base_uri": "https://localhost:8080/"
        }
      },
      "source": [
        "print(bad_data_lemmatized[0])"
      ],
      "execution_count": null,
      "outputs": [
        {
          "output_type": "stream",
          "text": [
            "['phlipls', 'cheap', 'qualityplastic', 'poor', 'juicer', 'juicer', 'very', 'poor', 'quality', 'plastic', 'material', 'see', 'pic', 'attach', 'new', 'year', 'old', 'onephilip', 'ruin', 'name', 'such', 'quality']\n"
          ],
          "name": "stdout"
        }
      ]
    },
    {
      "cell_type": "code",
      "metadata": {
        "id": "uqW7ODFbXf4e",
        "outputId": "43fdd05e-fda6-4ef3-84a2-f2e104d9558f",
        "colab": {
          "base_uri": "https://localhost:8080/"
        }
      },
      "source": [
        "id2word = corpora.Dictionary(bad_data_lemmatized)\n",
        "\n",
        "texts = bad_data_lemmatized\n",
        "\n",
        "corpus = [id2word.doc2bow(text) for text in texts]\n",
        "\n",
        "print(corpus[:1][0][:30])"
      ],
      "execution_count": null,
      "outputs": [
        {
          "output_type": "stream",
          "text": [
            "[(0, 1), (1, 1), (2, 2), (3, 1), (4, 1), (5, 1), (6, 1), (7, 1), (8, 1), (9, 1), (10, 1), (11, 2), (12, 2), (13, 1), (14, 1), (15, 1), (16, 1), (17, 1), (18, 1)]\n"
          ],
          "name": "stdout"
        }
      ]
    },
    {
      "cell_type": "code",
      "metadata": {
        "id": "YAaToOO3Xf4g"
      },
      "source": [
        "lda_model = gensim.models.LdaMulticore(corpus=corpus,\n",
        "                                       id2word=id2word,\n",
        "                                       num_topics=2, \n",
        "                                       random_state=14,\n",
        "                                       passes=20)"
      ],
      "execution_count": null,
      "outputs": []
    },
    {
      "cell_type": "code",
      "metadata": {
        "id": "LK0abm-NwUFK",
        "outputId": "5cc803dd-b44c-4889-ffa6-4809ed2b02d0",
        "colab": {
          "base_uri": "https://localhost:8080/"
        }
      },
      "source": [
        "from pprint import pprint\n",
        "\n",
        "pprint(lda_model.print_topics())\n",
        "doc_lda = lda_model[corpus]"
      ],
      "execution_count": null,
      "outputs": [
        {
          "output_type": "stream",
          "text": [
            "[(0,\n",
            "  '0.048*\"product\" + 0.024*\"work\" + 0.013*\"service\" + 0.013*\"good\" + '\n",
            "  '0.012*\"buy\" + 0.012*\"day\" + 0.011*\"bad\" + 0.011*\"star\" + 0.010*\"get\" + '\n",
            "  '0.010*\"use\"'),\n",
            " (1,\n",
            "  '0.030*\"juice\" + 0.025*\"product\" + 0.021*\"juicer\" + 0.016*\"very\" + '\n",
            "  '0.014*\"use\" + 0.014*\"good\" + 0.011*\"pulp\" + 0.010*\"clean\" + 0.010*\"waste\" + '\n",
            "  '0.008*\"quality\"')]\n"
          ],
          "name": "stdout"
        }
      ]
    },
    {
      "cell_type": "markdown",
      "metadata": {
        "id": "_w9lc6ciwK4T"
      },
      "source": [
        "From modelling the bad reviews, its evident that\n",
        "\n",
        "*   Topic 1 is about it not working and poor sevice.\n",
        "*   Topic 2 is about the build quality and defective."
      ]
    },
    {
      "cell_type": "code",
      "metadata": {
        "id": "0s0JAFgKwK4V",
        "outputId": "e31d86a9-eb84-401d-dff2-0c3a945b3328",
        "colab": {
          "base_uri": "https://localhost:8080/",
          "height": 861
        }
      },
      "source": [
        "pyLDAvis.enable_notebook()\n",
        "\n",
        "LDAvis_prepared = pyLDAvis.gensim.prepare(lda_model, corpus, id2word)\n",
        "\n",
        "LDAvis_prepared"
      ],
      "execution_count": null,
      "outputs": [
        {
          "output_type": "execute_result",
          "data": {
            "text/html": [
              "\n",
              "<link rel=\"stylesheet\" type=\"text/css\" href=\"https://cdn.rawgit.com/bmabey/pyLDAvis/files/ldavis.v1.0.0.css\">\n",
              "\n",
              "\n",
              "<div id=\"ldavis_el1041405081489413527906300791\"></div>\n",
              "<script type=\"text/javascript\">\n",
              "\n",
              "var ldavis_el1041405081489413527906300791_data = {\"mdsDat\": {\"x\": [0.07907725125551222, -0.07907725125551222], \"y\": [0.0, 0.0], \"topics\": [1, 2], \"cluster\": [1, 1], \"Freq\": [64.53443953551363, 35.46556046448637]}, \"tinfo\": {\"Term\": [\"product\", \"juice\", \"work\", \"stop\", \"pulp\", \"day\", \"service\", \"clean\", \"defective\", \"customer\", \"replace\", \"item\", \"star\", \"warranty\", \"repair\", \"fruit\", \"bad\", \"buy\", \"much\", \"purchase\", \"problem\", \"lock\", \"waste\", \"plastic\", \"now\", \"deliver\", \"switch\", \"expect\", \"power\", \"brand\", \"pulp\", \"much\", \"fruit\", \"clean\", \"juice\", \"stick\", \"vegetable\", \"carrot\", \"container\", \"cleaning\", \"leave\", \"plastic\", \"remove\", \"cheap\", \"less\", \"material\", \"fast\", \"dry\", \"little\", \"handle\", \"bottom\", \"model\", \"remain\", \"quantity\", \"free\", \"whole\", \"waste\", \"second\", \"performance\", \"put\", \"lot\", \"assemble\", \"same\", \"also\", \"big\", \"too\", \"part\", \"small\", \"juicer\", \"piece\", \"very\", \"so\", \"go\", \"only\", \"easy\", \"use\", \"quality\", \"well\", \"good\", \"product\", \"come\", \"motor\", \"return\", \"get\", \"buy\", \"receive\", \"can\", \"bad\", \"item\", \"repair\", \"stop\", \"warranty\", \"lock\", \"switch\", \"pack\", \"ask\", \"date\", \"pick\", \"once\", \"cheat\", \"card\", \"twice\", \"power\", \"suffer\", \"overprice\", \"scratch\", \"experience\", \"excellent\", \"online\", \"close\", \"never\", \"resolve\", \"number\", \"workingplease\", \"trust\", \"spoil\", \"system\", \"hurom\", \"customer\", \"brand\", \"sale\", \"replace\", \"work\", \"defective\", \"pay\", \"problem\", \"day\", \"product\", \"service\", \"deliver\", \"purchase\", \"star\", \"now\", \"bad\", \"buy\", \"expect\", \"get\", \"worth\", \"good\", \"time\", \"just\", \"poor\", \"month\", \"use\", \"look\", \"will\", \"motor\", \"juicer\", \"very\", \"return\"], \"Freq\": [252.0, 153.0, 83.0, 26.0, 56.0, 52.0, 56.0, 52.0, 32.0, 22.0, 22.0, 15.0, 51.0, 15.0, 14.0, 39.0, 57.0, 66.0, 33.0, 27.0, 19.0, 11.0, 53.0, 36.0, 21.0, 17.0, 8.0, 15.0, 8.0, 9.0, 56.4312650746221, 32.670350876967305, 39.294291286228386, 51.80798654077064, 150.63419898635834, 19.06667675837887, 20.717455123860677, 20.707089977916855, 19.021079551638657, 14.821067873914735, 22.092595170009616, 35.10563777409188, 11.426674737545534, 10.595643868463315, 16.285168902341056, 11.370482252846765, 9.701417597473833, 9.675807356213662, 12.89035347372481, 8.036751915562629, 8.036301432143778, 9.642455473977687, 8.032848301262627, 7.216444047707149, 7.216420459175639, 8.796651855539366, 50.359075375977135, 7.192108737808629, 7.190230285238326, 7.97900316311419, 31.808016300580285, 22.316845010451384, 11.924354780638762, 36.63961723813347, 11.869513170866508, 27.56549808907409, 33.89555301155368, 11.068265987131744, 103.33202699647634, 20.25799655643529, 80.68034450722075, 30.313347987296325, 27.589749400787234, 22.917197301260114, 27.510158243489926, 69.44327438595819, 41.475459508718274, 27.9085581847649, 67.96417910611159, 122.49687807234265, 29.16971844665416, 38.29645037692305, 33.41124709049698, 41.42431957240309, 32.87153688689199, 25.246807577216774, 24.7354174193455, 26.119088459280793, 14.900799581936973, 14.10132454189895, 25.6654203380268, 14.667787410797958, 10.771025267760127, 8.336983904477973, 5.293686809564524, 5.28509244561201, 5.280036751417296, 4.472186459126381, 5.215746596377768, 4.4699909156311906, 4.4543511461914465, 5.9016955331968255, 7.356003435458262, 3.664908449918169, 3.651538525920817, 5.812378901447217, 5.074421131014851, 3.623787222908672, 3.617967325282525, 5.060470703293828, 4.277735101514137, 2.8501142454381165, 2.8492716297389973, 2.8487489866805946, 3.557758086126121, 3.553222189383322, 2.8407461926992066, 2.8374516127424267, 19.023555998155977, 7.745181858333642, 4.936672276829583, 19.148293474761456, 64.79412586051075, 24.55639263587689, 7.316138385624225, 14.784629277933117, 33.59474961287753, 130.124186923511, 35.14684709829758, 12.559373856860189, 18.3071334614507, 29.996266471400823, 14.349451309991315, 31.150553228573123, 33.63360668565761, 10.968175208859043, 27.87327961809953, 11.34862900224043, 34.998010496518795, 18.264147097477185, 18.75982898293621, 16.941415612748784, 15.861875982104552, 26.24822331174024, 14.157345048304162, 15.793457484407089, 19.469773654559482, 25.509200335945646, 22.800403019050982, 15.195619590721975], \"Total\": [252.0, 153.0, 83.0, 26.0, 56.0, 52.0, 56.0, 52.0, 32.0, 22.0, 22.0, 15.0, 51.0, 15.0, 14.0, 39.0, 57.0, 66.0, 33.0, 27.0, 19.0, 11.0, 53.0, 36.0, 21.0, 17.0, 8.0, 15.0, 8.0, 9.0, 56.87662632203948, 33.10004413601393, 39.88663281193618, 52.61530715503156, 153.57781701540478, 19.512364934363934, 21.208799633151795, 21.208376799145203, 19.51050533171022, 15.266442084650562, 22.893991705829052, 36.457588420512785, 11.869788113926182, 11.021340473196725, 16.95526401687673, 11.867495803097821, 10.170316713706951, 10.169272277084207, 13.558590723401938, 8.473316998100678, 8.473297624064848, 10.167911019171367, 8.473156779136405, 7.625305886364861, 7.625304509372886, 9.31886186796588, 53.37077422408438, 7.624312691269052, 7.6242374046770145, 8.470961019170533, 33.87943744443424, 23.71769708820007, 12.70464110567803, 40.592936758667356, 12.702405195480067, 30.448199587662447, 38.03735918232125, 11.855172220443574, 128.841227332422, 22.819179459538024, 103.48074752627173, 35.447604950660576, 32.07830410461443, 26.185851253501294, 32.88961416204829, 95.69149769769842, 53.008507840984706, 33.720421715259185, 102.96218960263039, 252.62106499585366, 38.65920080271561, 57.76622403148253, 48.60686668121895, 69.29759919050262, 66.5051435725496, 36.87010969430305, 36.03469981093194, 57.26964168785392, 15.501088011111612, 14.685888985417819, 26.93208017973827, 15.510993486036172, 11.43071968755434, 8.986633205661361, 5.719263400041236, 5.719628614794401, 5.719843159485963, 4.905000593592237, 5.7225767602932525, 4.905093245527966, 4.905758473164953, 6.5426028383028445, 8.179151132375614, 4.0901323630822946, 4.090700600306343, 6.546399273790284, 5.728585046997371, 4.091880307568919, 4.092128056260116, 5.729178099612766, 4.913267241918412, 3.275583860486103, 3.2756195220463566, 3.2756418603653565, 4.094687611788653, 4.094880280702438, 3.2759822149132938, 3.276122355276486, 22.11931832559978, 9.011793084657, 5.734440871329066, 22.963202526687013, 83.86254241692103, 32.92354393433949, 9.030033764295776, 19.751966105089316, 52.070609600478356, 252.62106499585366, 56.25056039833562, 17.299003973048226, 27.244903994417818, 51.37440299373392, 21.46884063246273, 57.26964168785392, 66.5051435725496, 15.66827554887545, 69.29759919050262, 18.199663683645444, 102.96218960263039, 39.135351119064495, 41.661844475184026, 35.79483823835008, 32.44398077108245, 95.69149769769842, 29.119695568707147, 36.69282736327824, 57.76622403148253, 128.841227332422, 103.48074752627173, 48.60686668121895], \"Category\": [\"Default\", \"Default\", \"Default\", \"Default\", \"Default\", \"Default\", \"Default\", \"Default\", \"Default\", \"Default\", \"Default\", \"Default\", \"Default\", \"Default\", \"Default\", \"Default\", \"Default\", \"Default\", \"Default\", \"Default\", \"Default\", \"Default\", \"Default\", \"Default\", \"Default\", \"Default\", \"Default\", \"Default\", \"Default\", \"Default\", \"Topic1\", \"Topic1\", \"Topic1\", \"Topic1\", \"Topic1\", \"Topic1\", \"Topic1\", \"Topic1\", \"Topic1\", \"Topic1\", \"Topic1\", \"Topic1\", \"Topic1\", \"Topic1\", \"Topic1\", \"Topic1\", \"Topic1\", \"Topic1\", \"Topic1\", \"Topic1\", \"Topic1\", \"Topic1\", \"Topic1\", \"Topic1\", \"Topic1\", \"Topic1\", \"Topic1\", \"Topic1\", \"Topic1\", \"Topic1\", \"Topic1\", \"Topic1\", \"Topic1\", \"Topic1\", \"Topic1\", \"Topic1\", \"Topic1\", \"Topic1\", \"Topic1\", \"Topic1\", \"Topic1\", \"Topic1\", \"Topic1\", \"Topic1\", \"Topic1\", \"Topic1\", \"Topic1\", \"Topic1\", \"Topic1\", \"Topic1\", \"Topic1\", \"Topic1\", \"Topic1\", \"Topic1\", \"Topic1\", \"Topic1\", \"Topic1\", \"Topic1\", \"Topic2\", \"Topic2\", \"Topic2\", \"Topic2\", \"Topic2\", \"Topic2\", \"Topic2\", \"Topic2\", \"Topic2\", \"Topic2\", \"Topic2\", \"Topic2\", \"Topic2\", \"Topic2\", \"Topic2\", \"Topic2\", \"Topic2\", \"Topic2\", \"Topic2\", \"Topic2\", \"Topic2\", \"Topic2\", \"Topic2\", \"Topic2\", \"Topic2\", \"Topic2\", \"Topic2\", \"Topic2\", \"Topic2\", \"Topic2\", \"Topic2\", \"Topic2\", \"Topic2\", \"Topic2\", \"Topic2\", \"Topic2\", \"Topic2\", \"Topic2\", \"Topic2\", \"Topic2\", \"Topic2\", \"Topic2\", \"Topic2\", \"Topic2\", \"Topic2\", \"Topic2\", \"Topic2\", \"Topic2\", \"Topic2\", \"Topic2\", \"Topic2\", \"Topic2\", \"Topic2\", \"Topic2\", \"Topic2\", \"Topic2\", \"Topic2\", \"Topic2\", \"Topic2\", \"Topic2\", \"Topic2\", \"Topic2\"], \"logprob\": [30.0, 29.0, 28.0, 27.0, 26.0, 25.0, 24.0, 23.0, 22.0, 21.0, 20.0, 19.0, 18.0, 17.0, 16.0, 15.0, 14.0, 13.0, 12.0, 11.0, 10.0, 9.0, 8.0, 7.0, 6.0, 5.0, 4.0, 3.0, 2.0, 1.0, -4.472499847412109, -5.019100189208984, -4.834499835968018, -4.558000087738037, -3.4907000064849854, -5.557600021362305, -5.474599838256836, -5.475100040435791, -5.559999942779541, -5.809500217437744, -5.410299777984619, -4.947199821472168, -6.0696001052856445, -6.145100116729736, -5.7153000831604, -6.07450008392334, -6.23330020904541, -6.235899925231934, -5.949100017547607, -6.421500205993652, -6.421599864959717, -6.2393999099731445, -6.421999931335449, -6.529200077056885, -6.529200077056885, -6.331200122833252, -4.586400032043457, -6.532599925994873, -6.532800197601318, -6.428699970245361, -5.04580020904541, -5.400199890136719, -6.0269999504089355, -4.904399871826172, -6.031599998474121, -5.189000129699707, -4.9822998046875, -6.101500034332275, -3.8675999641418457, -5.497000217437744, -4.114999771118164, -5.093900203704834, -5.1880998611450195, -5.373600006103516, -5.190999984741211, -4.264999866485596, -4.780399799346924, -5.176599979400635, -4.286600112915039, -3.6974000930786133, -5.132400035858154, -4.860199928283691, -4.996600151062012, -4.781700134277344, -5.012899875640869, -5.276800155639648, -5.297299861907959, -5.2428998947143555, -5.20550012588501, -5.2606000900268555, -4.661799907684326, -5.221199989318848, -5.53000020980835, -5.786200046539307, -6.2403998374938965, -6.242000102996826, -6.243000030517578, -6.408999919891357, -6.255199909210205, -6.4095001220703125, -6.413000106811523, -6.131700038909912, -5.911399841308594, -6.608099937438965, -6.611800193786621, -6.146900177001953, -6.282700061798096, -6.6194000244140625, -6.620999813079834, -6.285399913787842, -6.453499794006348, -6.859499931335449, -6.859799861907959, -6.860000133514404, -6.637800216674805, -6.638999938964844, -6.862800121307373, -6.863999843597412, -4.96120023727417, -5.859799861907959, -6.310200214385986, -4.954699993133545, -3.7356998920440674, -4.705900192260742, -5.916800022125244, -5.2133002281188965, -4.392499923706055, -3.0383999347686768, -4.347400188446045, -5.376399993896484, -4.999599933624268, -4.505799770355225, -5.243199825286865, -4.468100070953369, -4.39139986038208, -5.511899948120117, -4.57919979095459, -5.477799892425537, -4.351600170135498, -5.001999855041504, -4.975200176239014, -5.077099800109863, -5.14300012588501, -4.6392998695373535, -5.256700038909912, -5.147299766540527, -4.938000202178955, -4.667900085449219, -4.780099868774414, -5.1859002113342285], \"loglift\": [30.0, 29.0, 28.0, 27.0, 26.0, 25.0, 24.0, 23.0, 22.0, 21.0, 20.0, 19.0, 18.0, 17.0, 16.0, 15.0, 14.0, 13.0, 12.0, 11.0, 10.0, 9.0, 8.0, 7.0, 6.0, 5.0, 4.0, 3.0, 2.0, 1.0, 0.4301, 0.4249, 0.423, 0.4225, 0.4186, 0.4149, 0.4145, 0.4141, 0.4126, 0.4084, 0.4023, 0.4002, 0.3999, 0.3986, 0.3976, 0.3952, 0.3908, 0.3882, 0.3874, 0.3851, 0.385, 0.3849, 0.3846, 0.3829, 0.3829, 0.3803, 0.3799, 0.3796, 0.3794, 0.3781, 0.3749, 0.3771, 0.3746, 0.3355, 0.3702, 0.3385, 0.3227, 0.3693, 0.2173, 0.3189, 0.1891, 0.2815, 0.2872, 0.3046, 0.2594, 0.1174, 0.1926, 0.2488, 0.0226, -0.2858, 0.1563, 0.0269, 0.0631, -0.0766, -0.2667, 0.0593, 0.0617, -0.3471, 0.9971, 0.996, 0.9884, 0.9807, 0.9772, 0.9616, 0.9593, 0.9576, 0.9566, 0.9442, 0.9439, 0.9437, 0.9401, 0.9335, 0.9305, 0.9268, 0.923, 0.9177, 0.9154, 0.9151, 0.9135, 0.9125, 0.8981, 0.8975, 0.8972, 0.897, 0.896, 0.8947, 0.8941, 0.8929, 0.8858, 0.8851, 0.8868, 0.8549, 0.7786, 0.7434, 0.8261, 0.7469, 0.5984, 0.3732, 0.5663, 0.7164, 0.639, 0.4985, 0.6337, 0.4277, 0.3549, 0.68, 0.1259, 0.5643, -0.0425, 0.2745, 0.2387, 0.2886, 0.321, -0.2569, 0.3154, 0.1936, -0.0509, -0.5829, -0.476, -0.1261]}, \"token.table\": {\"Topic\": [1, 2, 2, 1, 2, 1, 2, 1, 2, 1, 1, 2, 1, 2, 1, 2, 2, 1, 2, 1, 2, 1, 2, 1, 1, 2, 1, 2, 1, 1, 2, 2, 1, 2, 1, 2, 1, 2, 1, 1, 2, 2, 1, 2, 1, 2, 1, 1, 1, 2, 1, 2, 1, 2, 1, 2, 1, 2, 1, 2, 1, 2, 1, 2, 1, 2, 1, 2, 1, 2, 1, 2, 1, 2, 1, 2, 1, 2, 1, 1, 2, 1, 2, 1, 2, 1, 1, 2, 1, 2, 2, 1, 2, 2, 1, 2, 2, 2, 1, 2, 1, 2, 1, 2, 1, 2, 1, 2, 1, 2, 1, 2, 1, 2, 1, 2, 1, 1, 2, 1, 1, 2, 1, 1, 2, 1, 1, 1, 2, 1, 2, 2, 1, 2, 1, 2, 1, 2, 1, 2, 1, 1, 2, 1, 2, 1, 2, 1, 2, 1, 2, 1, 1, 2, 2, 1, 2, 2, 1, 2, 1, 2, 1, 2, 1, 2, 1, 2, 1, 1, 2, 1, 2, 1, 2, 1, 2, 1, 2, 1, 2, 1, 2, 2, 1, 2], \"Freq\": [0.9114886222687449, 0.09853931051553999, 0.8741826326043253, 0.9275774084721468, 0.04216260947600667, 0.453992712957976, 0.5412990039114329, 0.9447029767456949, 0.07872524806214125, 0.944142452553461, 0.11096570800127965, 0.8877256640102372, 0.49620222177252693, 0.5112386527353308, 0.6937757253750089, 0.3052613191650039, 0.8153683109106261, 0.9901747879567284, 0.04715118037889183, 0.998063713461296, 0.8154788909766088, 0.9883055485503762, 0.01900587593366108, 0.9825472049628085, 0.17454510622869096, 0.8727255311434547, 0.7501448399823852, 0.2328035710290161, 0.9738343357575417, 0.13562804946515697, 0.8589776466126607, 0.8741498430263506, 0.3456844492144113, 0.652959515182777, 0.2429872074511378, 0.7593350232848056, 0.2890339818286636, 0.7514883527545253, 0.9833545338867904, 0.8513325775742766, 0.1520236745668351, 0.9775457001029662, 0.31911616466043463, 0.7020555622529562, 0.17456317603666344, 0.8728158801833172, 0.9832535486847319, 0.9179961261082397, 0.9777711792289758, 0.025071055877666046, 0.5916510886226941, 0.4040544019862301, 0.8728640986969205, 0.12469487124241721, 0.6604366152510688, 0.3399306107909913, 0.9441402937944168, 0.9157167146606211, 0.0645116006878467, 0.9676740103177004, 0.9832149130290985, 0.019534071119783412, 0.7994335519192991, 0.20179876067865804, 0.5520638917871243, 0.4560527801719723, 0.960950815510192, 0.04367958252319055, 0.943659738006681, 0.05897873362541756, 0.9588017121545075, 0.07375397785803904, 0.08748355548328164, 0.9623191103160981, 0.5151152753162511, 0.4807742569618344, 0.9445257186599775, 0.05903285741624859, 0.926901528554038, 0.9834861832627396, 0.09834861832627395, 0.5239800910975826, 0.4931577327977248, 0.6578238518635049, 0.32891192593175245, 0.9969775225796428, 0.20353055324740377, 0.8141222129896151, 0.32605393648576436, 0.6521078729715287, 0.9158572843423003, 0.17474645459342955, 0.8737322729671477, 0.9774865167967607, 0.8783369223837886, 0.11456568552832025, 0.9778276121455697, 0.8742384552465182, 0.8938580577329431, 0.10515977149799331, 0.2214831142611983, 0.775190899914194, 0.9181246108241485, 0.8154942947867314, 0.8764557040915134, 0.13146835561372702, 0.9600196150194982, 0.027429131857699948, 0.5308027898738671, 0.4749288119924074, 0.12226207632252817, 0.8558345342576972, 0.2531393570340167, 0.75941807110205, 0.48293676539603864, 0.5146047500121723, 0.9845872306652655, 0.33033700547610667, 0.6606740109522133, 0.944402882021921, 0.7734607456409089, 0.22637875482172945, 0.9179959603347851, 0.6780560244403843, 0.32546689173138443, 0.9441581465479942, 0.9267225239761688, 0.06809257519193684, 0.9532960526871159, 0.1741917311120408, 0.8274107227821937, 0.9158672553584979, 0.6789164217563269, 0.30859837352560315, 0.17438491780424112, 0.8719245890212056, 0.9445367169511693, 0.0787113930792641, 0.15275573000927156, 0.9165343800556294, 0.9181155447645817, 0.3733296139858788, 0.6222160233097981, 0.9278650529455086, 0.0843513684495917, 0.8463195198027319, 0.14105325330045532, 0.244207383720742, 0.976829534882968, 0.40876387415268545, 0.5839483916466935, 0.9737415256383612, 0.03713044047567952, 0.9653914523676674, 0.977963460572613, 0.11127637871878694, 0.8902110297502955, 0.9157558873009333, 0.5365992484930078, 0.45994221299400667, 0.9195946026097893, 0.09852799313676315, 0.2442188745048556, 0.9768754980194224, 0.1528443686273643, 0.9170662117641859, 0.721067196774156, 0.27170647994388486, 0.9901550471142451, 0.7827542990973823, 0.2222635664103678, 0.06447040293713317, 0.9670560440569976, 0.9368423210438782, 0.0562105392626327, 0.8303573495146837, 0.1779337177531465, 0.9657831747606447, 0.10730924164007163, 0.5723189383060886, 0.4360525244236866, 0.22656122092676206, 0.7750778610652387, 0.9158510386313685, 0.384622492023868, 0.6044067731803641], \"Term\": [\"also\", \"also\", \"ask\", \"assemble\", \"assemble\", \"bad\", \"bad\", \"big\", \"big\", \"bottom\", \"brand\", \"brand\", \"buy\", \"buy\", \"can\", \"can\", \"card\", \"carrot\", \"carrot\", \"cheap\", \"cheat\", \"clean\", \"clean\", \"cleaning\", \"close\", \"close\", \"come\", \"come\", \"container\", \"customer\", \"customer\", \"date\", \"day\", \"day\", \"defective\", \"defective\", \"deliver\", \"deliver\", \"dry\", \"easy\", \"easy\", \"excellent\", \"expect\", \"expect\", \"experience\", \"experience\", \"fast\", \"free\", \"fruit\", \"fruit\", \"get\", \"get\", \"go\", \"go\", \"good\", \"good\", \"handle\", \"hurom\", \"item\", \"item\", \"juice\", \"juice\", \"juicer\", \"juicer\", \"just\", \"just\", \"leave\", \"leave\", \"less\", \"less\", \"little\", \"little\", \"lock\", \"lock\", \"look\", \"look\", \"lot\", \"lot\", \"material\", \"model\", \"model\", \"month\", \"month\", \"motor\", \"motor\", \"much\", \"never\", \"never\", \"now\", \"now\", \"number\", \"once\", \"once\", \"online\", \"only\", \"only\", \"overprice\", \"pack\", \"part\", \"part\", \"pay\", \"pay\", \"performance\", \"pick\", \"piece\", \"piece\", \"plastic\", \"plastic\", \"poor\", \"poor\", \"power\", \"power\", \"problem\", \"problem\", \"product\", \"product\", \"pulp\", \"purchase\", \"purchase\", \"put\", \"quality\", \"quality\", \"quantity\", \"receive\", \"receive\", \"remain\", \"remove\", \"repair\", \"repair\", \"replace\", \"replace\", \"resolve\", \"return\", \"return\", \"sale\", \"sale\", \"same\", \"same\", \"scratch\", \"scratch\", \"second\", \"service\", \"service\", \"small\", \"small\", \"so\", \"so\", \"spoil\", \"spoil\", \"star\", \"star\", \"stick\", \"stop\", \"stop\", \"suffer\", \"switch\", \"switch\", \"system\", \"time\", \"time\", \"too\", \"too\", \"trust\", \"trust\", \"twice\", \"twice\", \"use\", \"use\", \"vegetable\", \"very\", \"very\", \"warranty\", \"warranty\", \"waste\", \"waste\", \"well\", \"well\", \"whole\", \"whole\", \"will\", \"will\", \"work\", \"work\", \"workingplease\", \"worth\", \"worth\"]}, \"R\": 30, \"lambda.step\": 0.01, \"plot.opts\": {\"xlab\": \"PC1\", \"ylab\": \"PC2\"}, \"topic.order\": [2, 1]};\n",
              "\n",
              "function LDAvis_load_lib(url, callback){\n",
              "  var s = document.createElement('script');\n",
              "  s.src = url;\n",
              "  s.async = true;\n",
              "  s.onreadystatechange = s.onload = callback;\n",
              "  s.onerror = function(){console.warn(\"failed to load library \" + url);};\n",
              "  document.getElementsByTagName(\"head\")[0].appendChild(s);\n",
              "}\n",
              "\n",
              "if(typeof(LDAvis) !== \"undefined\"){\n",
              "   // already loaded: just create the visualization\n",
              "   !function(LDAvis){\n",
              "       new LDAvis(\"#\" + \"ldavis_el1041405081489413527906300791\", ldavis_el1041405081489413527906300791_data);\n",
              "   }(LDAvis);\n",
              "}else if(typeof define === \"function\" && define.amd){\n",
              "   // require.js is available: use it to load d3/LDAvis\n",
              "   require.config({paths: {d3: \"https://cdnjs.cloudflare.com/ajax/libs/d3/3.5.5/d3.min\"}});\n",
              "   require([\"d3\"], function(d3){\n",
              "      window.d3 = d3;\n",
              "      LDAvis_load_lib(\"https://cdn.rawgit.com/bmabey/pyLDAvis/files/ldavis.v1.0.0.js\", function(){\n",
              "        new LDAvis(\"#\" + \"ldavis_el1041405081489413527906300791\", ldavis_el1041405081489413527906300791_data);\n",
              "      });\n",
              "    });\n",
              "}else{\n",
              "    // require.js not available: dynamically load d3 & LDAvis\n",
              "    LDAvis_load_lib(\"https://cdnjs.cloudflare.com/ajax/libs/d3/3.5.5/d3.min.js\", function(){\n",
              "         LDAvis_load_lib(\"https://cdn.rawgit.com/bmabey/pyLDAvis/files/ldavis.v1.0.0.js\", function(){\n",
              "                 new LDAvis(\"#\" + \"ldavis_el1041405081489413527906300791\", ldavis_el1041405081489413527906300791_data);\n",
              "            })\n",
              "         });\n",
              "}\n",
              "</script>"
            ],
            "text/plain": [
              "PreparedData(topic_coordinates=              x    y  topics  cluster      Freq\n",
              "topic                                          \n",
              "1      0.079077  0.0       1        1  64.53444\n",
              "0     -0.079077  0.0       2        1  35.46556, topic_info=        Term        Freq       Total Category  logprob  loglift\n",
              "86   product  252.000000  252.000000  Default  30.0000  30.0000\n",
              "33     juice  153.000000  153.000000  Default  29.0000  29.0000\n",
              "100     work   83.000000   83.000000  Default  28.0000  28.0000\n",
              "301     stop   26.000000   26.000000  Default  27.0000  27.0000\n",
              "39      pulp   56.000000   56.000000  Default  26.0000  26.0000\n",
              "..       ...         ...         ...      ...      ...      ...\n",
              "229     will   15.793457   36.692827   Topic2  -5.1473   0.1936\n",
              "122    motor   19.469774   57.766224   Topic2  -4.9380  -0.0509\n",
              "2     juicer   25.509200  128.841227   Topic2  -4.6679  -0.5829\n",
              "17      very   22.800403  103.480748   Topic2  -4.7801  -0.4760\n",
              "42    return   15.195620   48.606867   Topic2  -5.1859  -0.1261\n",
              "\n",
              "[150 rows x 6 columns], token_table=      Topic      Freq           Term\n",
              "term                                \n",
              "63        1  0.911489           also\n",
              "63        2  0.098539           also\n",
              "336       2  0.874183            ask\n",
              "133       1  0.927577       assemble\n",
              "133       2  0.042163       assemble\n",
              "...     ...       ...            ...\n",
              "100       1  0.226561           work\n",
              "100       2  0.775078           work\n",
              "1152      2  0.915851  workingplease\n",
              "164       1  0.384622          worth\n",
              "164       2  0.604407          worth\n",
              "\n",
              "[186 rows x 3 columns], R=30, lambda_step=0.01, plot_opts={'xlab': 'PC1', 'ylab': 'PC2'}, topic_order=[2, 1])"
            ]
          },
          "metadata": {
            "tags": []
          },
          "execution_count": 30
        }
      ]
    },
    {
      "cell_type": "markdown",
      "metadata": {
        "id": "kUGI9L1pt1MI"
      },
      "source": [
        "# Result"
      ]
    },
    {
      "cell_type": "markdown",
      "metadata": {
        "id": "vzTz_T6ft5gG"
      },
      "source": [
        "Combining the results from modelling of good and bad reviews, we can extract features like:\n",
        "\n",
        "\n",
        "*   Fruits and Pulp\n",
        "*   Clean\n",
        "*   Easy to Use\n",
        "*   Quality\n",
        "*   Value for Money\n",
        "*   Not Working\n",
        "*   Good Juicer\n",
        "*   Damaged Product\n",
        "*   Service Center\n",
        "\n",
        "\n"
      ]
    }
  ]
}